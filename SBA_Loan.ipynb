{
  "nbformat": 4,
  "nbformat_minor": 0,
  "metadata": {
    "colab": {
      "name": "SBA_Loan.ipynb",
      "provenance": [],
      "collapsed_sections": []
    },
    "kernelspec": {
      "name": "python3",
      "display_name": "Python 3"
    },
    "language_info": {
      "name": "python"
    }
  },
  "cells": [
    {
      "cell_type": "code",
      "execution_count": null,
      "metadata": {
        "id": "mcHppPBjG9F_",
        "colab": {
          "base_uri": "https://localhost:8080/",
          "height": 270
        },
        "outputId": "d982f90e-0f21-4fd8-9646-679a8a4c0c7d"
      },
      "outputs": [
        {
          "output_type": "execute_result",
          "data": {
            "text/plain": [
              "   ApprovalFY  Term  NoEmp  NewExist  CreateJob  RetainedJob  FranchiseCode  \\\n",
              "0        2001    36      1       1.0          0            0              1   \n",
              "1        2001    56      1       1.0          0            0              1   \n",
              "2        2001    36     10       1.0          0            0              1   \n",
              "3        2003    36      6       1.0          0            0              1   \n",
              "4        2006   240     65       1.0          3           65              1   \n",
              "\n",
              "   UrbanRural RevLineCr LowDoc MIS_Status  SBA_Appv  New  RealEstate  Portion  \\\n",
              "0           0         Y      N      P I F     15000    0           0      0.5   \n",
              "1           0         Y      N      P I F     15000    0           0      0.5   \n",
              "2           0         Y      N      P I F     15000    0           0      0.5   \n",
              "3           0         Y      N      P I F     25000    0           0      0.5   \n",
              "4           1         0      N      P I F    343000    0           1      1.0   \n",
              "\n",
              "   Recession       xx  Default  \n",
              "0          0  16175.0        0  \n",
              "1          1  17658.0        0  \n",
              "2          0  16298.0        0  \n",
              "3          0  16816.0        0  \n",
              "4          0  24103.0        0  "
            ],
            "text/html": [
              "\n",
              "  <div id=\"df-7514f9e8-8e0c-4ec4-9f35-d32e6c4b44c0\">\n",
              "    <div class=\"colab-df-container\">\n",
              "      <div>\n",
              "<style scoped>\n",
              "    .dataframe tbody tr th:only-of-type {\n",
              "        vertical-align: middle;\n",
              "    }\n",
              "\n",
              "    .dataframe tbody tr th {\n",
              "        vertical-align: top;\n",
              "    }\n",
              "\n",
              "    .dataframe thead th {\n",
              "        text-align: right;\n",
              "    }\n",
              "</style>\n",
              "<table border=\"1\" class=\"dataframe\">\n",
              "  <thead>\n",
              "    <tr style=\"text-align: right;\">\n",
              "      <th></th>\n",
              "      <th>ApprovalFY</th>\n",
              "      <th>Term</th>\n",
              "      <th>NoEmp</th>\n",
              "      <th>NewExist</th>\n",
              "      <th>CreateJob</th>\n",
              "      <th>RetainedJob</th>\n",
              "      <th>FranchiseCode</th>\n",
              "      <th>UrbanRural</th>\n",
              "      <th>RevLineCr</th>\n",
              "      <th>LowDoc</th>\n",
              "      <th>MIS_Status</th>\n",
              "      <th>SBA_Appv</th>\n",
              "      <th>New</th>\n",
              "      <th>RealEstate</th>\n",
              "      <th>Portion</th>\n",
              "      <th>Recession</th>\n",
              "      <th>xx</th>\n",
              "      <th>Default</th>\n",
              "    </tr>\n",
              "  </thead>\n",
              "  <tbody>\n",
              "    <tr>\n",
              "      <th>0</th>\n",
              "      <td>2001</td>\n",
              "      <td>36</td>\n",
              "      <td>1</td>\n",
              "      <td>1.0</td>\n",
              "      <td>0</td>\n",
              "      <td>0</td>\n",
              "      <td>1</td>\n",
              "      <td>0</td>\n",
              "      <td>Y</td>\n",
              "      <td>N</td>\n",
              "      <td>P I F</td>\n",
              "      <td>15000</td>\n",
              "      <td>0</td>\n",
              "      <td>0</td>\n",
              "      <td>0.5</td>\n",
              "      <td>0</td>\n",
              "      <td>16175.0</td>\n",
              "      <td>0</td>\n",
              "    </tr>\n",
              "    <tr>\n",
              "      <th>1</th>\n",
              "      <td>2001</td>\n",
              "      <td>56</td>\n",
              "      <td>1</td>\n",
              "      <td>1.0</td>\n",
              "      <td>0</td>\n",
              "      <td>0</td>\n",
              "      <td>1</td>\n",
              "      <td>0</td>\n",
              "      <td>Y</td>\n",
              "      <td>N</td>\n",
              "      <td>P I F</td>\n",
              "      <td>15000</td>\n",
              "      <td>0</td>\n",
              "      <td>0</td>\n",
              "      <td>0.5</td>\n",
              "      <td>1</td>\n",
              "      <td>17658.0</td>\n",
              "      <td>0</td>\n",
              "    </tr>\n",
              "    <tr>\n",
              "      <th>2</th>\n",
              "      <td>2001</td>\n",
              "      <td>36</td>\n",
              "      <td>10</td>\n",
              "      <td>1.0</td>\n",
              "      <td>0</td>\n",
              "      <td>0</td>\n",
              "      <td>1</td>\n",
              "      <td>0</td>\n",
              "      <td>Y</td>\n",
              "      <td>N</td>\n",
              "      <td>P I F</td>\n",
              "      <td>15000</td>\n",
              "      <td>0</td>\n",
              "      <td>0</td>\n",
              "      <td>0.5</td>\n",
              "      <td>0</td>\n",
              "      <td>16298.0</td>\n",
              "      <td>0</td>\n",
              "    </tr>\n",
              "    <tr>\n",
              "      <th>3</th>\n",
              "      <td>2003</td>\n",
              "      <td>36</td>\n",
              "      <td>6</td>\n",
              "      <td>1.0</td>\n",
              "      <td>0</td>\n",
              "      <td>0</td>\n",
              "      <td>1</td>\n",
              "      <td>0</td>\n",
              "      <td>Y</td>\n",
              "      <td>N</td>\n",
              "      <td>P I F</td>\n",
              "      <td>25000</td>\n",
              "      <td>0</td>\n",
              "      <td>0</td>\n",
              "      <td>0.5</td>\n",
              "      <td>0</td>\n",
              "      <td>16816.0</td>\n",
              "      <td>0</td>\n",
              "    </tr>\n",
              "    <tr>\n",
              "      <th>4</th>\n",
              "      <td>2006</td>\n",
              "      <td>240</td>\n",
              "      <td>65</td>\n",
              "      <td>1.0</td>\n",
              "      <td>3</td>\n",
              "      <td>65</td>\n",
              "      <td>1</td>\n",
              "      <td>1</td>\n",
              "      <td>0</td>\n",
              "      <td>N</td>\n",
              "      <td>P I F</td>\n",
              "      <td>343000</td>\n",
              "      <td>0</td>\n",
              "      <td>1</td>\n",
              "      <td>1.0</td>\n",
              "      <td>0</td>\n",
              "      <td>24103.0</td>\n",
              "      <td>0</td>\n",
              "    </tr>\n",
              "  </tbody>\n",
              "</table>\n",
              "</div>\n",
              "      <button class=\"colab-df-convert\" onclick=\"convertToInteractive('df-7514f9e8-8e0c-4ec4-9f35-d32e6c4b44c0')\"\n",
              "              title=\"Convert this dataframe to an interactive table.\"\n",
              "              style=\"display:none;\">\n",
              "        \n",
              "  <svg xmlns=\"http://www.w3.org/2000/svg\" height=\"24px\"viewBox=\"0 0 24 24\"\n",
              "       width=\"24px\">\n",
              "    <path d=\"M0 0h24v24H0V0z\" fill=\"none\"/>\n",
              "    <path d=\"M18.56 5.44l.94 2.06.94-2.06 2.06-.94-2.06-.94-.94-2.06-.94 2.06-2.06.94zm-11 1L8.5 8.5l.94-2.06 2.06-.94-2.06-.94L8.5 2.5l-.94 2.06-2.06.94zm10 10l.94 2.06.94-2.06 2.06-.94-2.06-.94-.94-2.06-.94 2.06-2.06.94z\"/><path d=\"M17.41 7.96l-1.37-1.37c-.4-.4-.92-.59-1.43-.59-.52 0-1.04.2-1.43.59L10.3 9.45l-7.72 7.72c-.78.78-.78 2.05 0 2.83L4 21.41c.39.39.9.59 1.41.59.51 0 1.02-.2 1.41-.59l7.78-7.78 2.81-2.81c.8-.78.8-2.07 0-2.86zM5.41 20L4 18.59l7.72-7.72 1.47 1.35L5.41 20z\"/>\n",
              "  </svg>\n",
              "      </button>\n",
              "      \n",
              "  <style>\n",
              "    .colab-df-container {\n",
              "      display:flex;\n",
              "      flex-wrap:wrap;\n",
              "      gap: 12px;\n",
              "    }\n",
              "\n",
              "    .colab-df-convert {\n",
              "      background-color: #E8F0FE;\n",
              "      border: none;\n",
              "      border-radius: 50%;\n",
              "      cursor: pointer;\n",
              "      display: none;\n",
              "      fill: #1967D2;\n",
              "      height: 32px;\n",
              "      padding: 0 0 0 0;\n",
              "      width: 32px;\n",
              "    }\n",
              "\n",
              "    .colab-df-convert:hover {\n",
              "      background-color: #E2EBFA;\n",
              "      box-shadow: 0px 1px 2px rgba(60, 64, 67, 0.3), 0px 1px 3px 1px rgba(60, 64, 67, 0.15);\n",
              "      fill: #174EA6;\n",
              "    }\n",
              "\n",
              "    [theme=dark] .colab-df-convert {\n",
              "      background-color: #3B4455;\n",
              "      fill: #D2E3FC;\n",
              "    }\n",
              "\n",
              "    [theme=dark] .colab-df-convert:hover {\n",
              "      background-color: #434B5C;\n",
              "      box-shadow: 0px 1px 3px 1px rgba(0, 0, 0, 0.15);\n",
              "      filter: drop-shadow(0px 1px 2px rgba(0, 0, 0, 0.3));\n",
              "      fill: #FFFFFF;\n",
              "    }\n",
              "  </style>\n",
              "\n",
              "      <script>\n",
              "        const buttonEl =\n",
              "          document.querySelector('#df-7514f9e8-8e0c-4ec4-9f35-d32e6c4b44c0 button.colab-df-convert');\n",
              "        buttonEl.style.display =\n",
              "          google.colab.kernel.accessAllowed ? 'block' : 'none';\n",
              "\n",
              "        async function convertToInteractive(key) {\n",
              "          const element = document.querySelector('#df-7514f9e8-8e0c-4ec4-9f35-d32e6c4b44c0');\n",
              "          const dataTable =\n",
              "            await google.colab.kernel.invokeFunction('convertToInteractive',\n",
              "                                                     [key], {});\n",
              "          if (!dataTable) return;\n",
              "\n",
              "          const docLinkHtml = 'Like what you see? Visit the ' +\n",
              "            '<a target=\"_blank\" href=https://colab.research.google.com/notebooks/data_table.ipynb>data table notebook</a>'\n",
              "            + ' to learn more about interactive tables.';\n",
              "          element.innerHTML = '';\n",
              "          dataTable['output_type'] = 'display_data';\n",
              "          await google.colab.output.renderOutput(dataTable, element);\n",
              "          const docLink = document.createElement('div');\n",
              "          docLink.innerHTML = docLinkHtml;\n",
              "          element.appendChild(docLink);\n",
              "        }\n",
              "      </script>\n",
              "    </div>\n",
              "  </div>\n",
              "  "
            ]
          },
          "metadata": {},
          "execution_count": 1
        }
      ],
      "source": [
        "from google.colab import drive \n",
        "import pandas as pd \n",
        "import matplotlib.pyplot as plt\n",
        "import numpy as np\n",
        "import seaborn as sns\n",
        "data=pd.read_csv(\"/content/drive/MyDrive/Freshman First Semester/Research Papers/Wrote/SBAcase.11.13.17[1].csv\")\n",
        "data_copy = data.drop([\"Selected\", \"LoanNr_ChkDgt\", \"Name\", \"City\", \"State\", \"Zip\", \"Bank\", \"BankState\", \"NAICS\", \"ApprovalDate\", \"ChgOffDate\", \"DisbursementDate\", \"DisbursementGross\", \"BalanceGross\", \"ChgOffPrinGr\", \"GrAppv\", \"daysterm\"], axis=1)\n",
        "data_copy.head()"
      ]
    },
    {
      "cell_type": "code",
      "source": [
        "data_copy.dtypes"
      ],
      "metadata": {
        "colab": {
          "base_uri": "https://localhost:8080/"
        },
        "id": "HAsXbC8DLU8P",
        "outputId": "ed6a1522-6361-4f20-b74a-31571db71f29"
      },
      "execution_count": null,
      "outputs": [
        {
          "output_type": "execute_result",
          "data": {
            "text/plain": [
              "ApprovalFY         int64\n",
              "Term               int64\n",
              "NoEmp              int64\n",
              "NewExist         float64\n",
              "CreateJob          int64\n",
              "RetainedJob        int64\n",
              "FranchiseCode      int64\n",
              "UrbanRural         int64\n",
              "RevLineCr         object\n",
              "LowDoc            object\n",
              "MIS_Status        object\n",
              "SBA_Appv           int64\n",
              "New                int64\n",
              "RealEstate         int64\n",
              "Portion          float64\n",
              "Recession          int64\n",
              "xx               float64\n",
              "Default            int64\n",
              "dtype: object"
            ]
          },
          "metadata": {},
          "execution_count": 2
        }
      ]
    },
    {
      "cell_type": "code",
      "source": [
        "data_copy = data_copy[data_copy[\"ApprovalFY\"] >= 2000]\n",
        "new = []\n",
        "for i in data_copy[\"NewExist\"].tolist():\n",
        "  if i == 1.0:\n",
        "    new.append(0)\n",
        "  else:\n",
        "    new.append(1)\n",
        "data_copy[\"NewExist2\"] = new\n",
        "\n",
        "franchise = []\n",
        "for i in data_copy[\"FranchiseCode\"]:\n",
        "  if i == 1 or 0:\n",
        "    franchise.append(0)\n",
        "  else:\n",
        "    franchise.append(1)\n",
        "data_copy[\"Franchise\"] = franchise\n",
        "\n",
        "urban = []\n",
        "for i in data_copy[\"UrbanRural\"]:\n",
        "  if i == 1:\n",
        "    urban.append(1)\n",
        "  else:\n",
        "    urban.append(0)\n",
        "data_copy[\"Urban\"] = urban\n",
        "\n",
        "revolving = []\n",
        "for i in data_copy[\"RevLineCr\"]:\n",
        "  if i == \"Y\":\n",
        "    revolving.append(1)\n",
        "  else:\n",
        "    revolving.append(0)\n",
        "data_copy[\"Revolving\"] = revolving\n",
        "\n",
        "low_doc = []\n",
        "for i in data_copy[\"LowDoc\"]:\n",
        "  if i == \"N\":\n",
        "    low_doc.append(0)\n",
        "  else:\n",
        "    low_doc.append(1)\n",
        "data_copy[\"Low_Doc\"] = low_doc\n",
        "\n",
        "data_copy['PIF'] = [\n",
        "    1 if i == 'P I F' else 0 for i in data_copy['MIS_Status']\n",
        "]\n",
        "\n",
        "df = data_copy[[\"ApprovalFY\", \"Term\", \"NoEmp\", \"Franchise\", \"Urban\", \"Revolving\", \"Low_Doc\", \"New\", \"RealEstate\", \"Portion\", \"Recession\", \"Default\"]]\n",
        "#df = data_copy[[\"Recession\", \"Portion\", \"RealEstate\", \"PIF\", \"Franchise\", \"New\", \"Revolving\", \"Low_Doc\", \"NoEmp\", \"Term\", \"Urban\", \"Default\"]]\n",
        "df.head()"
      ],
      "metadata": {
        "colab": {
          "base_uri": "https://localhost:8080/",
          "height": 762
        },
        "id": "Uxq2Vh4tLnID",
        "outputId": "6064f3e0-0587-48ce-85ad-9b67382c7f13"
      },
      "execution_count": null,
      "outputs": [
        {
          "output_type": "stream",
          "name": "stderr",
          "text": [
            "/usr/local/lib/python3.7/dist-packages/ipykernel_launcher.py:8: SettingWithCopyWarning: \n",
            "A value is trying to be set on a copy of a slice from a DataFrame.\n",
            "Try using .loc[row_indexer,col_indexer] = value instead\n",
            "\n",
            "See the caveats in the documentation: https://pandas.pydata.org/pandas-docs/stable/user_guide/indexing.html#returning-a-view-versus-a-copy\n",
            "  \n",
            "/usr/local/lib/python3.7/dist-packages/ipykernel_launcher.py:16: SettingWithCopyWarning: \n",
            "A value is trying to be set on a copy of a slice from a DataFrame.\n",
            "Try using .loc[row_indexer,col_indexer] = value instead\n",
            "\n",
            "See the caveats in the documentation: https://pandas.pydata.org/pandas-docs/stable/user_guide/indexing.html#returning-a-view-versus-a-copy\n",
            "  app.launch_new_instance()\n",
            "/usr/local/lib/python3.7/dist-packages/ipykernel_launcher.py:24: SettingWithCopyWarning: \n",
            "A value is trying to be set on a copy of a slice from a DataFrame.\n",
            "Try using .loc[row_indexer,col_indexer] = value instead\n",
            "\n",
            "See the caveats in the documentation: https://pandas.pydata.org/pandas-docs/stable/user_guide/indexing.html#returning-a-view-versus-a-copy\n",
            "/usr/local/lib/python3.7/dist-packages/ipykernel_launcher.py:32: SettingWithCopyWarning: \n",
            "A value is trying to be set on a copy of a slice from a DataFrame.\n",
            "Try using .loc[row_indexer,col_indexer] = value instead\n",
            "\n",
            "See the caveats in the documentation: https://pandas.pydata.org/pandas-docs/stable/user_guide/indexing.html#returning-a-view-versus-a-copy\n",
            "/usr/local/lib/python3.7/dist-packages/ipykernel_launcher.py:40: SettingWithCopyWarning: \n",
            "A value is trying to be set on a copy of a slice from a DataFrame.\n",
            "Try using .loc[row_indexer,col_indexer] = value instead\n",
            "\n",
            "See the caveats in the documentation: https://pandas.pydata.org/pandas-docs/stable/user_guide/indexing.html#returning-a-view-versus-a-copy\n",
            "/usr/local/lib/python3.7/dist-packages/ipykernel_launcher.py:43: SettingWithCopyWarning: \n",
            "A value is trying to be set on a copy of a slice from a DataFrame.\n",
            "Try using .loc[row_indexer,col_indexer] = value instead\n",
            "\n",
            "See the caveats in the documentation: https://pandas.pydata.org/pandas-docs/stable/user_guide/indexing.html#returning-a-view-versus-a-copy\n"
          ]
        },
        {
          "output_type": "execute_result",
          "data": {
            "text/plain": [
              "   ApprovalFY  Term  NoEmp  Franchise  Urban  Revolving  Low_Doc  New  \\\n",
              "0        2001    36      1          0      0          1        0    0   \n",
              "1        2001    56      1          0      0          1        0    0   \n",
              "2        2001    36     10          0      0          1        0    0   \n",
              "3        2003    36      6          0      0          1        0    0   \n",
              "4        2006   240     65          0      1          0        0    0   \n",
              "\n",
              "   RealEstate  Portion  Recession  Default  \n",
              "0           0      0.5          0        0  \n",
              "1           0      0.5          1        0  \n",
              "2           0      0.5          0        0  \n",
              "3           0      0.5          0        0  \n",
              "4           1      1.0          0        0  "
            ],
            "text/html": [
              "\n",
              "  <div id=\"df-34f10634-9272-451b-8a9b-488e2afe981d\">\n",
              "    <div class=\"colab-df-container\">\n",
              "      <div>\n",
              "<style scoped>\n",
              "    .dataframe tbody tr th:only-of-type {\n",
              "        vertical-align: middle;\n",
              "    }\n",
              "\n",
              "    .dataframe tbody tr th {\n",
              "        vertical-align: top;\n",
              "    }\n",
              "\n",
              "    .dataframe thead th {\n",
              "        text-align: right;\n",
              "    }\n",
              "</style>\n",
              "<table border=\"1\" class=\"dataframe\">\n",
              "  <thead>\n",
              "    <tr style=\"text-align: right;\">\n",
              "      <th></th>\n",
              "      <th>ApprovalFY</th>\n",
              "      <th>Term</th>\n",
              "      <th>NoEmp</th>\n",
              "      <th>Franchise</th>\n",
              "      <th>Urban</th>\n",
              "      <th>Revolving</th>\n",
              "      <th>Low_Doc</th>\n",
              "      <th>New</th>\n",
              "      <th>RealEstate</th>\n",
              "      <th>Portion</th>\n",
              "      <th>Recession</th>\n",
              "      <th>Default</th>\n",
              "    </tr>\n",
              "  </thead>\n",
              "  <tbody>\n",
              "    <tr>\n",
              "      <th>0</th>\n",
              "      <td>2001</td>\n",
              "      <td>36</td>\n",
              "      <td>1</td>\n",
              "      <td>0</td>\n",
              "      <td>0</td>\n",
              "      <td>1</td>\n",
              "      <td>0</td>\n",
              "      <td>0</td>\n",
              "      <td>0</td>\n",
              "      <td>0.5</td>\n",
              "      <td>0</td>\n",
              "      <td>0</td>\n",
              "    </tr>\n",
              "    <tr>\n",
              "      <th>1</th>\n",
              "      <td>2001</td>\n",
              "      <td>56</td>\n",
              "      <td>1</td>\n",
              "      <td>0</td>\n",
              "      <td>0</td>\n",
              "      <td>1</td>\n",
              "      <td>0</td>\n",
              "      <td>0</td>\n",
              "      <td>0</td>\n",
              "      <td>0.5</td>\n",
              "      <td>1</td>\n",
              "      <td>0</td>\n",
              "    </tr>\n",
              "    <tr>\n",
              "      <th>2</th>\n",
              "      <td>2001</td>\n",
              "      <td>36</td>\n",
              "      <td>10</td>\n",
              "      <td>0</td>\n",
              "      <td>0</td>\n",
              "      <td>1</td>\n",
              "      <td>0</td>\n",
              "      <td>0</td>\n",
              "      <td>0</td>\n",
              "      <td>0.5</td>\n",
              "      <td>0</td>\n",
              "      <td>0</td>\n",
              "    </tr>\n",
              "    <tr>\n",
              "      <th>3</th>\n",
              "      <td>2003</td>\n",
              "      <td>36</td>\n",
              "      <td>6</td>\n",
              "      <td>0</td>\n",
              "      <td>0</td>\n",
              "      <td>1</td>\n",
              "      <td>0</td>\n",
              "      <td>0</td>\n",
              "      <td>0</td>\n",
              "      <td>0.5</td>\n",
              "      <td>0</td>\n",
              "      <td>0</td>\n",
              "    </tr>\n",
              "    <tr>\n",
              "      <th>4</th>\n",
              "      <td>2006</td>\n",
              "      <td>240</td>\n",
              "      <td>65</td>\n",
              "      <td>0</td>\n",
              "      <td>1</td>\n",
              "      <td>0</td>\n",
              "      <td>0</td>\n",
              "      <td>0</td>\n",
              "      <td>1</td>\n",
              "      <td>1.0</td>\n",
              "      <td>0</td>\n",
              "      <td>0</td>\n",
              "    </tr>\n",
              "  </tbody>\n",
              "</table>\n",
              "</div>\n",
              "      <button class=\"colab-df-convert\" onclick=\"convertToInteractive('df-34f10634-9272-451b-8a9b-488e2afe981d')\"\n",
              "              title=\"Convert this dataframe to an interactive table.\"\n",
              "              style=\"display:none;\">\n",
              "        \n",
              "  <svg xmlns=\"http://www.w3.org/2000/svg\" height=\"24px\"viewBox=\"0 0 24 24\"\n",
              "       width=\"24px\">\n",
              "    <path d=\"M0 0h24v24H0V0z\" fill=\"none\"/>\n",
              "    <path d=\"M18.56 5.44l.94 2.06.94-2.06 2.06-.94-2.06-.94-.94-2.06-.94 2.06-2.06.94zm-11 1L8.5 8.5l.94-2.06 2.06-.94-2.06-.94L8.5 2.5l-.94 2.06-2.06.94zm10 10l.94 2.06.94-2.06 2.06-.94-2.06-.94-.94-2.06-.94 2.06-2.06.94z\"/><path d=\"M17.41 7.96l-1.37-1.37c-.4-.4-.92-.59-1.43-.59-.52 0-1.04.2-1.43.59L10.3 9.45l-7.72 7.72c-.78.78-.78 2.05 0 2.83L4 21.41c.39.39.9.59 1.41.59.51 0 1.02-.2 1.41-.59l7.78-7.78 2.81-2.81c.8-.78.8-2.07 0-2.86zM5.41 20L4 18.59l7.72-7.72 1.47 1.35L5.41 20z\"/>\n",
              "  </svg>\n",
              "      </button>\n",
              "      \n",
              "  <style>\n",
              "    .colab-df-container {\n",
              "      display:flex;\n",
              "      flex-wrap:wrap;\n",
              "      gap: 12px;\n",
              "    }\n",
              "\n",
              "    .colab-df-convert {\n",
              "      background-color: #E8F0FE;\n",
              "      border: none;\n",
              "      border-radius: 50%;\n",
              "      cursor: pointer;\n",
              "      display: none;\n",
              "      fill: #1967D2;\n",
              "      height: 32px;\n",
              "      padding: 0 0 0 0;\n",
              "      width: 32px;\n",
              "    }\n",
              "\n",
              "    .colab-df-convert:hover {\n",
              "      background-color: #E2EBFA;\n",
              "      box-shadow: 0px 1px 2px rgba(60, 64, 67, 0.3), 0px 1px 3px 1px rgba(60, 64, 67, 0.15);\n",
              "      fill: #174EA6;\n",
              "    }\n",
              "\n",
              "    [theme=dark] .colab-df-convert {\n",
              "      background-color: #3B4455;\n",
              "      fill: #D2E3FC;\n",
              "    }\n",
              "\n",
              "    [theme=dark] .colab-df-convert:hover {\n",
              "      background-color: #434B5C;\n",
              "      box-shadow: 0px 1px 3px 1px rgba(0, 0, 0, 0.15);\n",
              "      filter: drop-shadow(0px 1px 2px rgba(0, 0, 0, 0.3));\n",
              "      fill: #FFFFFF;\n",
              "    }\n",
              "  </style>\n",
              "\n",
              "      <script>\n",
              "        const buttonEl =\n",
              "          document.querySelector('#df-34f10634-9272-451b-8a9b-488e2afe981d button.colab-df-convert');\n",
              "        buttonEl.style.display =\n",
              "          google.colab.kernel.accessAllowed ? 'block' : 'none';\n",
              "\n",
              "        async function convertToInteractive(key) {\n",
              "          const element = document.querySelector('#df-34f10634-9272-451b-8a9b-488e2afe981d');\n",
              "          const dataTable =\n",
              "            await google.colab.kernel.invokeFunction('convertToInteractive',\n",
              "                                                     [key], {});\n",
              "          if (!dataTable) return;\n",
              "\n",
              "          const docLinkHtml = 'Like what you see? Visit the ' +\n",
              "            '<a target=\"_blank\" href=https://colab.research.google.com/notebooks/data_table.ipynb>data table notebook</a>'\n",
              "            + ' to learn more about interactive tables.';\n",
              "          element.innerHTML = '';\n",
              "          dataTable['output_type'] = 'display_data';\n",
              "          await google.colab.output.renderOutput(dataTable, element);\n",
              "          const docLink = document.createElement('div');\n",
              "          docLink.innerHTML = docLinkHtml;\n",
              "          element.appendChild(docLink);\n",
              "        }\n",
              "      </script>\n",
              "    </div>\n",
              "  </div>\n",
              "  "
            ]
          },
          "metadata": {},
          "execution_count": 3
        }
      ]
    },
    {
      "cell_type": "code",
      "source": [
        "df[\"ApprovalFY\"].value_counts()"
      ],
      "metadata": {
        "colab": {
          "base_uri": "https://localhost:8080/"
        },
        "id": "ZGWKoKV1KPaB",
        "outputId": "195bf55d-0208-409b-8e2d-cb15e0a79451"
      },
      "execution_count": null,
      "outputs": [
        {
          "output_type": "execute_result",
          "data": {
            "text/plain": [
              "2007    404\n",
              "2006    338\n",
              "2005    246\n",
              "2004    228\n",
              "2003    183\n",
              "2002    133\n",
              "2008    123\n",
              "2001     98\n",
              "2000     42\n",
              "2010     36\n",
              "2009     29\n",
              "2011     12\n",
              "2012      1\n",
              "Name: ApprovalFY, dtype: int64"
            ]
          },
          "metadata": {},
          "execution_count": 4
        }
      ]
    },
    {
      "cell_type": "code",
      "source": [
        "df.groupby([\"Default\"]).mean()"
      ],
      "metadata": {
        "id": "cMJlvrfiZTR5",
        "outputId": "22d2b020-7863-4165-cde1-4c62a7e43b03",
        "colab": {
          "base_uri": "https://localhost:8080/",
          "height": 143
        }
      },
      "execution_count": null,
      "outputs": [
        {
          "output_type": "execute_result",
          "data": {
            "text/plain": [
              "          ApprovalFY        Term      NoEmp  Franchise     Urban  Revolving  \\\n",
              "Default                                                                       \n",
              "0        2004.595159  156.207012  13.282137   0.231219  0.927379   0.323873   \n",
              "1        2006.155556   62.417778   4.709630   0.525926  0.908148   0.511111   \n",
              "\n",
              "          Low_Doc       New  RealEstate   Portion  Recession  \n",
              "Default                                                       \n",
              "0        0.012521  0.136895    0.392321  0.702449   0.040902  \n",
              "1        0.013333  0.160000    0.038519  0.569556   0.117037  "
            ],
            "text/html": [
              "\n",
              "  <div id=\"df-f2a30654-f07f-4daf-b616-d41b5d969a78\">\n",
              "    <div class=\"colab-df-container\">\n",
              "      <div>\n",
              "<style scoped>\n",
              "    .dataframe tbody tr th:only-of-type {\n",
              "        vertical-align: middle;\n",
              "    }\n",
              "\n",
              "    .dataframe tbody tr th {\n",
              "        vertical-align: top;\n",
              "    }\n",
              "\n",
              "    .dataframe thead th {\n",
              "        text-align: right;\n",
              "    }\n",
              "</style>\n",
              "<table border=\"1\" class=\"dataframe\">\n",
              "  <thead>\n",
              "    <tr style=\"text-align: right;\">\n",
              "      <th></th>\n",
              "      <th>ApprovalFY</th>\n",
              "      <th>Term</th>\n",
              "      <th>NoEmp</th>\n",
              "      <th>Franchise</th>\n",
              "      <th>Urban</th>\n",
              "      <th>Revolving</th>\n",
              "      <th>Low_Doc</th>\n",
              "      <th>New</th>\n",
              "      <th>RealEstate</th>\n",
              "      <th>Portion</th>\n",
              "      <th>Recession</th>\n",
              "    </tr>\n",
              "    <tr>\n",
              "      <th>Default</th>\n",
              "      <th></th>\n",
              "      <th></th>\n",
              "      <th></th>\n",
              "      <th></th>\n",
              "      <th></th>\n",
              "      <th></th>\n",
              "      <th></th>\n",
              "      <th></th>\n",
              "      <th></th>\n",
              "      <th></th>\n",
              "      <th></th>\n",
              "    </tr>\n",
              "  </thead>\n",
              "  <tbody>\n",
              "    <tr>\n",
              "      <th>0</th>\n",
              "      <td>2004.595159</td>\n",
              "      <td>156.207012</td>\n",
              "      <td>13.282137</td>\n",
              "      <td>0.231219</td>\n",
              "      <td>0.927379</td>\n",
              "      <td>0.323873</td>\n",
              "      <td>0.012521</td>\n",
              "      <td>0.136895</td>\n",
              "      <td>0.392321</td>\n",
              "      <td>0.702449</td>\n",
              "      <td>0.040902</td>\n",
              "    </tr>\n",
              "    <tr>\n",
              "      <th>1</th>\n",
              "      <td>2006.155556</td>\n",
              "      <td>62.417778</td>\n",
              "      <td>4.709630</td>\n",
              "      <td>0.525926</td>\n",
              "      <td>0.908148</td>\n",
              "      <td>0.511111</td>\n",
              "      <td>0.013333</td>\n",
              "      <td>0.160000</td>\n",
              "      <td>0.038519</td>\n",
              "      <td>0.569556</td>\n",
              "      <td>0.117037</td>\n",
              "    </tr>\n",
              "  </tbody>\n",
              "</table>\n",
              "</div>\n",
              "      <button class=\"colab-df-convert\" onclick=\"convertToInteractive('df-f2a30654-f07f-4daf-b616-d41b5d969a78')\"\n",
              "              title=\"Convert this dataframe to an interactive table.\"\n",
              "              style=\"display:none;\">\n",
              "        \n",
              "  <svg xmlns=\"http://www.w3.org/2000/svg\" height=\"24px\"viewBox=\"0 0 24 24\"\n",
              "       width=\"24px\">\n",
              "    <path d=\"M0 0h24v24H0V0z\" fill=\"none\"/>\n",
              "    <path d=\"M18.56 5.44l.94 2.06.94-2.06 2.06-.94-2.06-.94-.94-2.06-.94 2.06-2.06.94zm-11 1L8.5 8.5l.94-2.06 2.06-.94-2.06-.94L8.5 2.5l-.94 2.06-2.06.94zm10 10l.94 2.06.94-2.06 2.06-.94-2.06-.94-.94-2.06-.94 2.06-2.06.94z\"/><path d=\"M17.41 7.96l-1.37-1.37c-.4-.4-.92-.59-1.43-.59-.52 0-1.04.2-1.43.59L10.3 9.45l-7.72 7.72c-.78.78-.78 2.05 0 2.83L4 21.41c.39.39.9.59 1.41.59.51 0 1.02-.2 1.41-.59l7.78-7.78 2.81-2.81c.8-.78.8-2.07 0-2.86zM5.41 20L4 18.59l7.72-7.72 1.47 1.35L5.41 20z\"/>\n",
              "  </svg>\n",
              "      </button>\n",
              "      \n",
              "  <style>\n",
              "    .colab-df-container {\n",
              "      display:flex;\n",
              "      flex-wrap:wrap;\n",
              "      gap: 12px;\n",
              "    }\n",
              "\n",
              "    .colab-df-convert {\n",
              "      background-color: #E8F0FE;\n",
              "      border: none;\n",
              "      border-radius: 50%;\n",
              "      cursor: pointer;\n",
              "      display: none;\n",
              "      fill: #1967D2;\n",
              "      height: 32px;\n",
              "      padding: 0 0 0 0;\n",
              "      width: 32px;\n",
              "    }\n",
              "\n",
              "    .colab-df-convert:hover {\n",
              "      background-color: #E2EBFA;\n",
              "      box-shadow: 0px 1px 2px rgba(60, 64, 67, 0.3), 0px 1px 3px 1px rgba(60, 64, 67, 0.15);\n",
              "      fill: #174EA6;\n",
              "    }\n",
              "\n",
              "    [theme=dark] .colab-df-convert {\n",
              "      background-color: #3B4455;\n",
              "      fill: #D2E3FC;\n",
              "    }\n",
              "\n",
              "    [theme=dark] .colab-df-convert:hover {\n",
              "      background-color: #434B5C;\n",
              "      box-shadow: 0px 1px 3px 1px rgba(0, 0, 0, 0.15);\n",
              "      filter: drop-shadow(0px 1px 2px rgba(0, 0, 0, 0.3));\n",
              "      fill: #FFFFFF;\n",
              "    }\n",
              "  </style>\n",
              "\n",
              "      <script>\n",
              "        const buttonEl =\n",
              "          document.querySelector('#df-f2a30654-f07f-4daf-b616-d41b5d969a78 button.colab-df-convert');\n",
              "        buttonEl.style.display =\n",
              "          google.colab.kernel.accessAllowed ? 'block' : 'none';\n",
              "\n",
              "        async function convertToInteractive(key) {\n",
              "          const element = document.querySelector('#df-f2a30654-f07f-4daf-b616-d41b5d969a78');\n",
              "          const dataTable =\n",
              "            await google.colab.kernel.invokeFunction('convertToInteractive',\n",
              "                                                     [key], {});\n",
              "          if (!dataTable) return;\n",
              "\n",
              "          const docLinkHtml = 'Like what you see? Visit the ' +\n",
              "            '<a target=\"_blank\" href=https://colab.research.google.com/notebooks/data_table.ipynb>data table notebook</a>'\n",
              "            + ' to learn more about interactive tables.';\n",
              "          element.innerHTML = '';\n",
              "          dataTable['output_type'] = 'display_data';\n",
              "          await google.colab.output.renderOutput(dataTable, element);\n",
              "          const docLink = document.createElement('div');\n",
              "          docLink.innerHTML = docLinkHtml;\n",
              "          element.appendChild(docLink);\n",
              "        }\n",
              "      </script>\n",
              "    </div>\n",
              "  </div>\n",
              "  "
            ]
          },
          "metadata": {},
          "execution_count": 5
        }
      ]
    },
    {
      "cell_type": "code",
      "source": [
        "df[df['ApprovalFY'] <= 2007].groupby([\"Default\"]).mean()"
      ],
      "metadata": {
        "colab": {
          "base_uri": "https://localhost:8080/",
          "height": 143
        },
        "id": "hyJo7PPTJqnP",
        "outputId": "2a27fcd0-5854-416c-863a-d6d13573107d"
      },
      "execution_count": null,
      "outputs": [
        {
          "output_type": "execute_result",
          "data": {
            "text/plain": [
              "          ApprovalFY        Term      NoEmp  Franchise     Urban  Revolving  \\\n",
              "Default                                                                       \n",
              "0        2004.139042  157.360037  13.796501   0.177716  0.928177   0.320442   \n",
              "1        2005.829352   61.604096   4.813993   0.479522  0.904437   0.515358   \n",
              "\n",
              "          Low_Doc       New  RealEstate   Portion  Recession  \n",
              "Default                                                       \n",
              "0        0.011971  0.134438    0.401473  0.700170   0.044199  \n",
              "1        0.008532  0.162116    0.042662  0.556485   0.131399  "
            ],
            "text/html": [
              "\n",
              "  <div id=\"df-8fc6a284-f7b1-4d57-b6ff-06b5117a97d5\">\n",
              "    <div class=\"colab-df-container\">\n",
              "      <div>\n",
              "<style scoped>\n",
              "    .dataframe tbody tr th:only-of-type {\n",
              "        vertical-align: middle;\n",
              "    }\n",
              "\n",
              "    .dataframe tbody tr th {\n",
              "        vertical-align: top;\n",
              "    }\n",
              "\n",
              "    .dataframe thead th {\n",
              "        text-align: right;\n",
              "    }\n",
              "</style>\n",
              "<table border=\"1\" class=\"dataframe\">\n",
              "  <thead>\n",
              "    <tr style=\"text-align: right;\">\n",
              "      <th></th>\n",
              "      <th>ApprovalFY</th>\n",
              "      <th>Term</th>\n",
              "      <th>NoEmp</th>\n",
              "      <th>Franchise</th>\n",
              "      <th>Urban</th>\n",
              "      <th>Revolving</th>\n",
              "      <th>Low_Doc</th>\n",
              "      <th>New</th>\n",
              "      <th>RealEstate</th>\n",
              "      <th>Portion</th>\n",
              "      <th>Recession</th>\n",
              "    </tr>\n",
              "    <tr>\n",
              "      <th>Default</th>\n",
              "      <th></th>\n",
              "      <th></th>\n",
              "      <th></th>\n",
              "      <th></th>\n",
              "      <th></th>\n",
              "      <th></th>\n",
              "      <th></th>\n",
              "      <th></th>\n",
              "      <th></th>\n",
              "      <th></th>\n",
              "      <th></th>\n",
              "    </tr>\n",
              "  </thead>\n",
              "  <tbody>\n",
              "    <tr>\n",
              "      <th>0</th>\n",
              "      <td>2004.139042</td>\n",
              "      <td>157.360037</td>\n",
              "      <td>13.796501</td>\n",
              "      <td>0.177716</td>\n",
              "      <td>0.928177</td>\n",
              "      <td>0.320442</td>\n",
              "      <td>0.011971</td>\n",
              "      <td>0.134438</td>\n",
              "      <td>0.401473</td>\n",
              "      <td>0.700170</td>\n",
              "      <td>0.044199</td>\n",
              "    </tr>\n",
              "    <tr>\n",
              "      <th>1</th>\n",
              "      <td>2005.829352</td>\n",
              "      <td>61.604096</td>\n",
              "      <td>4.813993</td>\n",
              "      <td>0.479522</td>\n",
              "      <td>0.904437</td>\n",
              "      <td>0.515358</td>\n",
              "      <td>0.008532</td>\n",
              "      <td>0.162116</td>\n",
              "      <td>0.042662</td>\n",
              "      <td>0.556485</td>\n",
              "      <td>0.131399</td>\n",
              "    </tr>\n",
              "  </tbody>\n",
              "</table>\n",
              "</div>\n",
              "      <button class=\"colab-df-convert\" onclick=\"convertToInteractive('df-8fc6a284-f7b1-4d57-b6ff-06b5117a97d5')\"\n",
              "              title=\"Convert this dataframe to an interactive table.\"\n",
              "              style=\"display:none;\">\n",
              "        \n",
              "  <svg xmlns=\"http://www.w3.org/2000/svg\" height=\"24px\"viewBox=\"0 0 24 24\"\n",
              "       width=\"24px\">\n",
              "    <path d=\"M0 0h24v24H0V0z\" fill=\"none\"/>\n",
              "    <path d=\"M18.56 5.44l.94 2.06.94-2.06 2.06-.94-2.06-.94-.94-2.06-.94 2.06-2.06.94zm-11 1L8.5 8.5l.94-2.06 2.06-.94-2.06-.94L8.5 2.5l-.94 2.06-2.06.94zm10 10l.94 2.06.94-2.06 2.06-.94-2.06-.94-.94-2.06-.94 2.06-2.06.94z\"/><path d=\"M17.41 7.96l-1.37-1.37c-.4-.4-.92-.59-1.43-.59-.52 0-1.04.2-1.43.59L10.3 9.45l-7.72 7.72c-.78.78-.78 2.05 0 2.83L4 21.41c.39.39.9.59 1.41.59.51 0 1.02-.2 1.41-.59l7.78-7.78 2.81-2.81c.8-.78.8-2.07 0-2.86zM5.41 20L4 18.59l7.72-7.72 1.47 1.35L5.41 20z\"/>\n",
              "  </svg>\n",
              "      </button>\n",
              "      \n",
              "  <style>\n",
              "    .colab-df-container {\n",
              "      display:flex;\n",
              "      flex-wrap:wrap;\n",
              "      gap: 12px;\n",
              "    }\n",
              "\n",
              "    .colab-df-convert {\n",
              "      background-color: #E8F0FE;\n",
              "      border: none;\n",
              "      border-radius: 50%;\n",
              "      cursor: pointer;\n",
              "      display: none;\n",
              "      fill: #1967D2;\n",
              "      height: 32px;\n",
              "      padding: 0 0 0 0;\n",
              "      width: 32px;\n",
              "    }\n",
              "\n",
              "    .colab-df-convert:hover {\n",
              "      background-color: #E2EBFA;\n",
              "      box-shadow: 0px 1px 2px rgba(60, 64, 67, 0.3), 0px 1px 3px 1px rgba(60, 64, 67, 0.15);\n",
              "      fill: #174EA6;\n",
              "    }\n",
              "\n",
              "    [theme=dark] .colab-df-convert {\n",
              "      background-color: #3B4455;\n",
              "      fill: #D2E3FC;\n",
              "    }\n",
              "\n",
              "    [theme=dark] .colab-df-convert:hover {\n",
              "      background-color: #434B5C;\n",
              "      box-shadow: 0px 1px 3px 1px rgba(0, 0, 0, 0.15);\n",
              "      filter: drop-shadow(0px 1px 2px rgba(0, 0, 0, 0.3));\n",
              "      fill: #FFFFFF;\n",
              "    }\n",
              "  </style>\n",
              "\n",
              "      <script>\n",
              "        const buttonEl =\n",
              "          document.querySelector('#df-8fc6a284-f7b1-4d57-b6ff-06b5117a97d5 button.colab-df-convert');\n",
              "        buttonEl.style.display =\n",
              "          google.colab.kernel.accessAllowed ? 'block' : 'none';\n",
              "\n",
              "        async function convertToInteractive(key) {\n",
              "          const element = document.querySelector('#df-8fc6a284-f7b1-4d57-b6ff-06b5117a97d5');\n",
              "          const dataTable =\n",
              "            await google.colab.kernel.invokeFunction('convertToInteractive',\n",
              "                                                     [key], {});\n",
              "          if (!dataTable) return;\n",
              "\n",
              "          const docLinkHtml = 'Like what you see? Visit the ' +\n",
              "            '<a target=\"_blank\" href=https://colab.research.google.com/notebooks/data_table.ipynb>data table notebook</a>'\n",
              "            + ' to learn more about interactive tables.';\n",
              "          element.innerHTML = '';\n",
              "          dataTable['output_type'] = 'display_data';\n",
              "          await google.colab.output.renderOutput(dataTable, element);\n",
              "          const docLink = document.createElement('div');\n",
              "          docLink.innerHTML = docLinkHtml;\n",
              "          element.appendChild(docLink);\n",
              "        }\n",
              "      </script>\n",
              "    </div>\n",
              "  </div>\n",
              "  "
            ]
          },
          "metadata": {},
          "execution_count": 6
        }
      ]
    },
    {
      "cell_type": "code",
      "source": [
        "df[df[\"ApprovalFY\"].isin(np.arange(2008, 2010))].groupby([\"Default\"]).mean()"
      ],
      "metadata": {
        "colab": {
          "base_uri": "https://localhost:8080/",
          "height": 143
        },
        "id": "CpiS9z-hMOUK",
        "outputId": "615311af-8e87-48e6-c950-d0ceaf7591a9"
      },
      "execution_count": null,
      "outputs": [
        {
          "output_type": "execute_result",
          "data": {
            "text/plain": [
              "          ApprovalFY        Term     NoEmp  Franchise     Urban  Revolving  \\\n",
              "Default                                                                      \n",
              "0        2008.242857  124.342857  6.442857   0.600000  0.942857   0.428571   \n",
              "1        2008.146341   66.024390  4.182927   0.817073  0.951220   0.500000   \n",
              "\n",
              "         Low_Doc       New  RealEstate   Portion  Recession  \n",
              "Default                                                      \n",
              "0        0.00000  0.157143    0.214286  0.686429   0.014286  \n",
              "1        0.04878  0.146341    0.012195  0.645122   0.024390  "
            ],
            "text/html": [
              "\n",
              "  <div id=\"df-76ad3f23-e615-4c72-9d92-f36553f09fc3\">\n",
              "    <div class=\"colab-df-container\">\n",
              "      <div>\n",
              "<style scoped>\n",
              "    .dataframe tbody tr th:only-of-type {\n",
              "        vertical-align: middle;\n",
              "    }\n",
              "\n",
              "    .dataframe tbody tr th {\n",
              "        vertical-align: top;\n",
              "    }\n",
              "\n",
              "    .dataframe thead th {\n",
              "        text-align: right;\n",
              "    }\n",
              "</style>\n",
              "<table border=\"1\" class=\"dataframe\">\n",
              "  <thead>\n",
              "    <tr style=\"text-align: right;\">\n",
              "      <th></th>\n",
              "      <th>ApprovalFY</th>\n",
              "      <th>Term</th>\n",
              "      <th>NoEmp</th>\n",
              "      <th>Franchise</th>\n",
              "      <th>Urban</th>\n",
              "      <th>Revolving</th>\n",
              "      <th>Low_Doc</th>\n",
              "      <th>New</th>\n",
              "      <th>RealEstate</th>\n",
              "      <th>Portion</th>\n",
              "      <th>Recession</th>\n",
              "    </tr>\n",
              "    <tr>\n",
              "      <th>Default</th>\n",
              "      <th></th>\n",
              "      <th></th>\n",
              "      <th></th>\n",
              "      <th></th>\n",
              "      <th></th>\n",
              "      <th></th>\n",
              "      <th></th>\n",
              "      <th></th>\n",
              "      <th></th>\n",
              "      <th></th>\n",
              "      <th></th>\n",
              "    </tr>\n",
              "  </thead>\n",
              "  <tbody>\n",
              "    <tr>\n",
              "      <th>0</th>\n",
              "      <td>2008.242857</td>\n",
              "      <td>124.342857</td>\n",
              "      <td>6.442857</td>\n",
              "      <td>0.600000</td>\n",
              "      <td>0.942857</td>\n",
              "      <td>0.428571</td>\n",
              "      <td>0.00000</td>\n",
              "      <td>0.157143</td>\n",
              "      <td>0.214286</td>\n",
              "      <td>0.686429</td>\n",
              "      <td>0.014286</td>\n",
              "    </tr>\n",
              "    <tr>\n",
              "      <th>1</th>\n",
              "      <td>2008.146341</td>\n",
              "      <td>66.024390</td>\n",
              "      <td>4.182927</td>\n",
              "      <td>0.817073</td>\n",
              "      <td>0.951220</td>\n",
              "      <td>0.500000</td>\n",
              "      <td>0.04878</td>\n",
              "      <td>0.146341</td>\n",
              "      <td>0.012195</td>\n",
              "      <td>0.645122</td>\n",
              "      <td>0.024390</td>\n",
              "    </tr>\n",
              "  </tbody>\n",
              "</table>\n",
              "</div>\n",
              "      <button class=\"colab-df-convert\" onclick=\"convertToInteractive('df-76ad3f23-e615-4c72-9d92-f36553f09fc3')\"\n",
              "              title=\"Convert this dataframe to an interactive table.\"\n",
              "              style=\"display:none;\">\n",
              "        \n",
              "  <svg xmlns=\"http://www.w3.org/2000/svg\" height=\"24px\"viewBox=\"0 0 24 24\"\n",
              "       width=\"24px\">\n",
              "    <path d=\"M0 0h24v24H0V0z\" fill=\"none\"/>\n",
              "    <path d=\"M18.56 5.44l.94 2.06.94-2.06 2.06-.94-2.06-.94-.94-2.06-.94 2.06-2.06.94zm-11 1L8.5 8.5l.94-2.06 2.06-.94-2.06-.94L8.5 2.5l-.94 2.06-2.06.94zm10 10l.94 2.06.94-2.06 2.06-.94-2.06-.94-.94-2.06-.94 2.06-2.06.94z\"/><path d=\"M17.41 7.96l-1.37-1.37c-.4-.4-.92-.59-1.43-.59-.52 0-1.04.2-1.43.59L10.3 9.45l-7.72 7.72c-.78.78-.78 2.05 0 2.83L4 21.41c.39.39.9.59 1.41.59.51 0 1.02-.2 1.41-.59l7.78-7.78 2.81-2.81c.8-.78.8-2.07 0-2.86zM5.41 20L4 18.59l7.72-7.72 1.47 1.35L5.41 20z\"/>\n",
              "  </svg>\n",
              "      </button>\n",
              "      \n",
              "  <style>\n",
              "    .colab-df-container {\n",
              "      display:flex;\n",
              "      flex-wrap:wrap;\n",
              "      gap: 12px;\n",
              "    }\n",
              "\n",
              "    .colab-df-convert {\n",
              "      background-color: #E8F0FE;\n",
              "      border: none;\n",
              "      border-radius: 50%;\n",
              "      cursor: pointer;\n",
              "      display: none;\n",
              "      fill: #1967D2;\n",
              "      height: 32px;\n",
              "      padding: 0 0 0 0;\n",
              "      width: 32px;\n",
              "    }\n",
              "\n",
              "    .colab-df-convert:hover {\n",
              "      background-color: #E2EBFA;\n",
              "      box-shadow: 0px 1px 2px rgba(60, 64, 67, 0.3), 0px 1px 3px 1px rgba(60, 64, 67, 0.15);\n",
              "      fill: #174EA6;\n",
              "    }\n",
              "\n",
              "    [theme=dark] .colab-df-convert {\n",
              "      background-color: #3B4455;\n",
              "      fill: #D2E3FC;\n",
              "    }\n",
              "\n",
              "    [theme=dark] .colab-df-convert:hover {\n",
              "      background-color: #434B5C;\n",
              "      box-shadow: 0px 1px 3px 1px rgba(0, 0, 0, 0.15);\n",
              "      filter: drop-shadow(0px 1px 2px rgba(0, 0, 0, 0.3));\n",
              "      fill: #FFFFFF;\n",
              "    }\n",
              "  </style>\n",
              "\n",
              "      <script>\n",
              "        const buttonEl =\n",
              "          document.querySelector('#df-76ad3f23-e615-4c72-9d92-f36553f09fc3 button.colab-df-convert');\n",
              "        buttonEl.style.display =\n",
              "          google.colab.kernel.accessAllowed ? 'block' : 'none';\n",
              "\n",
              "        async function convertToInteractive(key) {\n",
              "          const element = document.querySelector('#df-76ad3f23-e615-4c72-9d92-f36553f09fc3');\n",
              "          const dataTable =\n",
              "            await google.colab.kernel.invokeFunction('convertToInteractive',\n",
              "                                                     [key], {});\n",
              "          if (!dataTable) return;\n",
              "\n",
              "          const docLinkHtml = 'Like what you see? Visit the ' +\n",
              "            '<a target=\"_blank\" href=https://colab.research.google.com/notebooks/data_table.ipynb>data table notebook</a>'\n",
              "            + ' to learn more about interactive tables.';\n",
              "          element.innerHTML = '';\n",
              "          dataTable['output_type'] = 'display_data';\n",
              "          await google.colab.output.renderOutput(dataTable, element);\n",
              "          const docLink = document.createElement('div');\n",
              "          docLink.innerHTML = docLinkHtml;\n",
              "          element.appendChild(docLink);\n",
              "        }\n",
              "      </script>\n",
              "    </div>\n",
              "  </div>\n",
              "  "
            ]
          },
          "metadata": {},
          "execution_count": 7
        }
      ]
    },
    {
      "cell_type": "code",
      "source": [
        "df[df[\"ApprovalFY\"].isin(np.arange(2010, 2013))].groupby([\"Default\"]).mean()"
      ],
      "metadata": {
        "colab": {
          "base_uri": "https://localhost:8080/",
          "height": 143
        },
        "id": "Jc1afbLEM8w5",
        "outputId": "b99bd9c6-b1ad-4144-b299-db6fa2097c6c"
      },
      "execution_count": null,
      "outputs": [
        {
          "output_type": "execute_result",
          "data": {
            "text/plain": [
              "          ApprovalFY        Term      NoEmp  Franchise     Urban  Revolving  \\\n",
              "Default                                                                       \n",
              "0        2010.309524  179.500000  11.380952        1.0  0.880952   0.238095   \n",
              "1        2010.142857   88.285714   2.142857        1.0  0.714286   0.285714   \n",
              "\n",
              "          Low_Doc       New  RealEstate   Portion  Recession  \n",
              "Default                                                       \n",
              "0        0.047619  0.166667    0.452381  0.788095        0.0  \n",
              "1        0.000000  0.142857    0.000000  0.778571        0.0  "
            ],
            "text/html": [
              "\n",
              "  <div id=\"df-3fb60d94-b4bd-45a0-ba50-585a2b94ee1c\">\n",
              "    <div class=\"colab-df-container\">\n",
              "      <div>\n",
              "<style scoped>\n",
              "    .dataframe tbody tr th:only-of-type {\n",
              "        vertical-align: middle;\n",
              "    }\n",
              "\n",
              "    .dataframe tbody tr th {\n",
              "        vertical-align: top;\n",
              "    }\n",
              "\n",
              "    .dataframe thead th {\n",
              "        text-align: right;\n",
              "    }\n",
              "</style>\n",
              "<table border=\"1\" class=\"dataframe\">\n",
              "  <thead>\n",
              "    <tr style=\"text-align: right;\">\n",
              "      <th></th>\n",
              "      <th>ApprovalFY</th>\n",
              "      <th>Term</th>\n",
              "      <th>NoEmp</th>\n",
              "      <th>Franchise</th>\n",
              "      <th>Urban</th>\n",
              "      <th>Revolving</th>\n",
              "      <th>Low_Doc</th>\n",
              "      <th>New</th>\n",
              "      <th>RealEstate</th>\n",
              "      <th>Portion</th>\n",
              "      <th>Recession</th>\n",
              "    </tr>\n",
              "    <tr>\n",
              "      <th>Default</th>\n",
              "      <th></th>\n",
              "      <th></th>\n",
              "      <th></th>\n",
              "      <th></th>\n",
              "      <th></th>\n",
              "      <th></th>\n",
              "      <th></th>\n",
              "      <th></th>\n",
              "      <th></th>\n",
              "      <th></th>\n",
              "      <th></th>\n",
              "    </tr>\n",
              "  </thead>\n",
              "  <tbody>\n",
              "    <tr>\n",
              "      <th>0</th>\n",
              "      <td>2010.309524</td>\n",
              "      <td>179.500000</td>\n",
              "      <td>11.380952</td>\n",
              "      <td>1.0</td>\n",
              "      <td>0.880952</td>\n",
              "      <td>0.238095</td>\n",
              "      <td>0.047619</td>\n",
              "      <td>0.166667</td>\n",
              "      <td>0.452381</td>\n",
              "      <td>0.788095</td>\n",
              "      <td>0.0</td>\n",
              "    </tr>\n",
              "    <tr>\n",
              "      <th>1</th>\n",
              "      <td>2010.142857</td>\n",
              "      <td>88.285714</td>\n",
              "      <td>2.142857</td>\n",
              "      <td>1.0</td>\n",
              "      <td>0.714286</td>\n",
              "      <td>0.285714</td>\n",
              "      <td>0.000000</td>\n",
              "      <td>0.142857</td>\n",
              "      <td>0.000000</td>\n",
              "      <td>0.778571</td>\n",
              "      <td>0.0</td>\n",
              "    </tr>\n",
              "  </tbody>\n",
              "</table>\n",
              "</div>\n",
              "      <button class=\"colab-df-convert\" onclick=\"convertToInteractive('df-3fb60d94-b4bd-45a0-ba50-585a2b94ee1c')\"\n",
              "              title=\"Convert this dataframe to an interactive table.\"\n",
              "              style=\"display:none;\">\n",
              "        \n",
              "  <svg xmlns=\"http://www.w3.org/2000/svg\" height=\"24px\"viewBox=\"0 0 24 24\"\n",
              "       width=\"24px\">\n",
              "    <path d=\"M0 0h24v24H0V0z\" fill=\"none\"/>\n",
              "    <path d=\"M18.56 5.44l.94 2.06.94-2.06 2.06-.94-2.06-.94-.94-2.06-.94 2.06-2.06.94zm-11 1L8.5 8.5l.94-2.06 2.06-.94-2.06-.94L8.5 2.5l-.94 2.06-2.06.94zm10 10l.94 2.06.94-2.06 2.06-.94-2.06-.94-.94-2.06-.94 2.06-2.06.94z\"/><path d=\"M17.41 7.96l-1.37-1.37c-.4-.4-.92-.59-1.43-.59-.52 0-1.04.2-1.43.59L10.3 9.45l-7.72 7.72c-.78.78-.78 2.05 0 2.83L4 21.41c.39.39.9.59 1.41.59.51 0 1.02-.2 1.41-.59l7.78-7.78 2.81-2.81c.8-.78.8-2.07 0-2.86zM5.41 20L4 18.59l7.72-7.72 1.47 1.35L5.41 20z\"/>\n",
              "  </svg>\n",
              "      </button>\n",
              "      \n",
              "  <style>\n",
              "    .colab-df-container {\n",
              "      display:flex;\n",
              "      flex-wrap:wrap;\n",
              "      gap: 12px;\n",
              "    }\n",
              "\n",
              "    .colab-df-convert {\n",
              "      background-color: #E8F0FE;\n",
              "      border: none;\n",
              "      border-radius: 50%;\n",
              "      cursor: pointer;\n",
              "      display: none;\n",
              "      fill: #1967D2;\n",
              "      height: 32px;\n",
              "      padding: 0 0 0 0;\n",
              "      width: 32px;\n",
              "    }\n",
              "\n",
              "    .colab-df-convert:hover {\n",
              "      background-color: #E2EBFA;\n",
              "      box-shadow: 0px 1px 2px rgba(60, 64, 67, 0.3), 0px 1px 3px 1px rgba(60, 64, 67, 0.15);\n",
              "      fill: #174EA6;\n",
              "    }\n",
              "\n",
              "    [theme=dark] .colab-df-convert {\n",
              "      background-color: #3B4455;\n",
              "      fill: #D2E3FC;\n",
              "    }\n",
              "\n",
              "    [theme=dark] .colab-df-convert:hover {\n",
              "      background-color: #434B5C;\n",
              "      box-shadow: 0px 1px 3px 1px rgba(0, 0, 0, 0.15);\n",
              "      filter: drop-shadow(0px 1px 2px rgba(0, 0, 0, 0.3));\n",
              "      fill: #FFFFFF;\n",
              "    }\n",
              "  </style>\n",
              "\n",
              "      <script>\n",
              "        const buttonEl =\n",
              "          document.querySelector('#df-3fb60d94-b4bd-45a0-ba50-585a2b94ee1c button.colab-df-convert');\n",
              "        buttonEl.style.display =\n",
              "          google.colab.kernel.accessAllowed ? 'block' : 'none';\n",
              "\n",
              "        async function convertToInteractive(key) {\n",
              "          const element = document.querySelector('#df-3fb60d94-b4bd-45a0-ba50-585a2b94ee1c');\n",
              "          const dataTable =\n",
              "            await google.colab.kernel.invokeFunction('convertToInteractive',\n",
              "                                                     [key], {});\n",
              "          if (!dataTable) return;\n",
              "\n",
              "          const docLinkHtml = 'Like what you see? Visit the ' +\n",
              "            '<a target=\"_blank\" href=https://colab.research.google.com/notebooks/data_table.ipynb>data table notebook</a>'\n",
              "            + ' to learn more about interactive tables.';\n",
              "          element.innerHTML = '';\n",
              "          dataTable['output_type'] = 'display_data';\n",
              "          await google.colab.output.renderOutput(dataTable, element);\n",
              "          const docLink = document.createElement('div');\n",
              "          docLink.innerHTML = docLinkHtml;\n",
              "          element.appendChild(docLink);\n",
              "        }\n",
              "      </script>\n",
              "    </div>\n",
              "  </div>\n",
              "  "
            ]
          },
          "metadata": {},
          "execution_count": 8
        }
      ]
    },
    {
      "cell_type": "markdown",
      "source": [
        "SKLearn"
      ],
      "metadata": {
        "id": "U5nCVeKzHAtQ"
      }
    },
    {
      "cell_type": "code",
      "source": [
        "x = df.drop([\"Default\", \"ApprovalFY\"], axis=1)\n",
        "y = df[\"Default\"]"
      ],
      "metadata": {
        "id": "visnutFrSKrm"
      },
      "execution_count": null,
      "outputs": []
    },
    {
      "cell_type": "code",
      "source": [
        "from sklearn.model_selection import train_test_split\n",
        "x_train, x_test, y_train, y_test = train_test_split(x, y, random_state=101, stratify=y, test_size=0.2)"
      ],
      "metadata": {
        "id": "xcR9RlS0SnUQ"
      },
      "execution_count": null,
      "outputs": []
    },
    {
      "cell_type": "code",
      "source": [
        "x_train.shape, x_test.shape"
      ],
      "metadata": {
        "colab": {
          "base_uri": "https://localhost:8080/"
        },
        "id": "CvLOjQSfTDTo",
        "outputId": "42e54116-03d1-4819-c802-afc4d06e006a"
      },
      "execution_count": null,
      "outputs": [
        {
          "output_type": "execute_result",
          "data": {
            "text/plain": [
              "((1498, 10), (375, 10))"
            ]
          },
          "metadata": {},
          "execution_count": 11
        }
      ]
    },
    {
      "cell_type": "code",
      "source": [
        "y_train.shape, y_test.shape"
      ],
      "metadata": {
        "colab": {
          "base_uri": "https://localhost:8080/"
        },
        "id": "sVUgJD_dTFEu",
        "outputId": "7b135a70-8065-4b1b-da59-607b19acdc3e"
      },
      "execution_count": null,
      "outputs": [
        {
          "output_type": "execute_result",
          "data": {
            "text/plain": [
              "((1498,), (375,))"
            ]
          },
          "metadata": {},
          "execution_count": 12
        }
      ]
    },
    {
      "cell_type": "code",
      "source": [
        "from sklearn.tree import DecisionTreeClassifier\n",
        "from sklearn.tree import DecisionTreeRegressor\n",
        "\n",
        "dt = DecisionTreeClassifier(random_state=10)\n",
        "dt.fit(x_train, y_train)"
      ],
      "metadata": {
        "colab": {
          "base_uri": "https://localhost:8080/"
        },
        "id": "T2Ru40fLTNqb",
        "outputId": "57cfddfa-7881-4110-b3fe-d07f5ebaf37d"
      },
      "execution_count": null,
      "outputs": [
        {
          "output_type": "execute_result",
          "data": {
            "text/plain": [
              "DecisionTreeClassifier(random_state=10)"
            ]
          },
          "metadata": {},
          "execution_count": 13
        }
      ]
    },
    {
      "cell_type": "code",
      "source": [
        "def exp(df, sims):\n",
        "  lst = []\n",
        "  for i in range(0, sims):\n",
        "    training_data = df.sample(int(np.round(0.8*len(df))))\n",
        "    testing_data = df.drop(training_data.index)\n",
        "\n",
        "    x_train = training_data.drop([\"Default\", \"Term\", \"Portion\"], axis=1)\n",
        "    y_train = training_data[\"Default\"]\n",
        "    x_test = testing_data.drop([\"Default\", \"Term\", \"Portion\"], axis=1)\n",
        "    y_test = testing_data[\"Default\"]\n",
        "\n",
        "    dt = DecisionTreeClassifier(random_state=10)\n",
        "    dt.fit(x_train, y_train)\n",
        "\n",
        "    lst.append(dt.score(x_test, y_test))\n",
        "  plt.hist(lst, edgecolor=\"black\", bins = np.arange(0.86, 0.98, 0.01))\n",
        "  plt.xlabel(\"Testing Accuracy\")\n",
        "  plt.ylabel(\"Simulations\")\n",
        "  plt.title(\"1000 Simulations of Tree Classifier on Test Accuracy\")"
      ],
      "metadata": {
        "id": "IFTFriNfby--"
      },
      "execution_count": null,
      "outputs": []
    },
    {
      "cell_type": "code",
      "source": [
        "#exp(df, 1000)"
      ],
      "metadata": {
        "id": "5L2shOHdcc6T"
      },
      "execution_count": null,
      "outputs": []
    },
    {
      "cell_type": "code",
      "source": [
        "dt.score(x_train, y_train)"
      ],
      "metadata": {
        "colab": {
          "base_uri": "https://localhost:8080/"
        },
        "id": "-u4b3sJoTjsx",
        "outputId": "0f8a9f6e-80fa-4e26-c807-192288e30b15"
      },
      "execution_count": null,
      "outputs": [
        {
          "output_type": "execute_result",
          "data": {
            "text/plain": [
              "0.9959946595460614"
            ]
          },
          "metadata": {},
          "execution_count": 16
        }
      ]
    },
    {
      "cell_type": "code",
      "source": [
        "dt.score(x_test, y_test)"
      ],
      "metadata": {
        "colab": {
          "base_uri": "https://localhost:8080/"
        },
        "id": "KALXBHFlTq8W",
        "outputId": "ce542783-c96a-480f-a14d-ae656fed5b99"
      },
      "execution_count": null,
      "outputs": [
        {
          "output_type": "execute_result",
          "data": {
            "text/plain": [
              "0.9173333333333333"
            ]
          },
          "metadata": {},
          "execution_count": 17
        }
      ]
    },
    {
      "cell_type": "code",
      "source": [
        "from sklearn import tree"
      ],
      "metadata": {
        "id": "ws5fDLbVUMHM"
      },
      "execution_count": null,
      "outputs": []
    },
    {
      "cell_type": "code",
      "source": [
        "#!pip install graphviz"
      ],
      "metadata": {
        "id": "Axm8FIKmUf4_"
      },
      "execution_count": null,
      "outputs": []
    },
    {
      "cell_type": "code",
      "source": [
        "decision_tree = tree.export_graphviz(dt, out_file=\"sba_tree.dot\", feature_names=x_train.columns, max_depth=4, filled=True)"
      ],
      "metadata": {
        "id": "7qlb8JvIUkQB"
      },
      "execution_count": null,
      "outputs": []
    },
    {
      "cell_type": "code",
      "source": [
        "!dot -Tpng sba_tree.dot -o sba_tree.png"
      ],
      "metadata": {
        "id": "F6CGRXaoVDCP"
      },
      "execution_count": null,
      "outputs": []
    },
    {
      "cell_type": "code",
      "source": [
        "img = plt.imread(\"sba_tree.png\")\n",
        "plt.figure(figsize=(20, 20))\n",
        "plt.imshow(img)"
      ],
      "metadata": {
        "colab": {
          "base_uri": "https://localhost:8080/",
          "height": 362
        },
        "id": "rPQYdWd3VP8G",
        "outputId": "2e434658-416a-4f15-fe48-17ebceae2665"
      },
      "execution_count": null,
      "outputs": [
        {
          "output_type": "execute_result",
          "data": {
            "text/plain": [
              "<matplotlib.image.AxesImage at 0x7f35159d56d0>"
            ]
          },
          "metadata": {},
          "execution_count": 22
        },
        {
          "output_type": "display_data",
          "data": {
            "text/plain": [
              "<Figure size 1440x1440 with 1 Axes>"
            ],
            "image/png": "[encoded data removed]"
          },
          "metadata": {
            "needs_background": "light"
          }
        }
      ]
    },
    {
      "cell_type": "code",
      "source": [
        "from sklearn.metrics import confusion_matrix\n",
        "from sklearn.metrics import classification_report\n",
        "\n",
        "matrix = confusion_matrix(dt.predict(x_test), y_test, labels=[1,0])\n",
        "print('Confusion matrix : \\n', matrix)\n",
        "print(\"Accuracy: \\n\", (121+223)/(121+223+14+17))"
      ],
      "metadata": {
        "colab": {
          "base_uri": "https://localhost:8080/"
        },
        "id": "_HrK03Pwcr8T",
        "outputId": "506d1dfa-0c65-4ff5-f5c5-a75871b196d9"
      },
      "execution_count": null,
      "outputs": [
        {
          "output_type": "stream",
          "name": "stdout",
          "text": [
            "Confusion matrix : \n",
            " [[121  17]\n",
            " [ 14 223]]\n",
            "Accuracy: \n",
            " 0.9173333333333333\n"
          ]
        }
      ]
    },
    {
      "cell_type": "markdown",
      "source": [
        "SKLearn Validation"
      ],
      "metadata": {
        "id": "vUkPIEqydhYr"
      }
    },
    {
      "cell_type": "code",
      "source": [
        "test_accuracy = []\n",
        "for depth in np.arange(1, 41):\n",
        "  model = DecisionTreeClassifier(max_depth=depth, random_state=10)\n",
        "  model.fit(x_train, y_train)\n",
        "  test_accuracy.append(model.score(x_test, y_test))"
      ],
      "metadata": {
        "id": "rTPK-sM8djO4"
      },
      "execution_count": null,
      "outputs": []
    },
    {
      "cell_type": "code",
      "source": [
        "accuracy_frame = pd.DataFrame({\"max_depth\": np.arange(1, 41), \"accuracy\":test_accuracy})\n",
        "accuracy_frame"
      ],
      "metadata": {
        "colab": {
          "base_uri": "https://localhost:8080/",
          "height": 1000
        },
        "id": "gCMrgDAceEPS",
        "outputId": "1ff54022-8915-449c-cb29-520c439a4fec"
      },
      "execution_count": null,
      "outputs": [
        {
          "output_type": "execute_result",
          "data": {
            "text/plain": [
              "    max_depth  accuracy\n",
              "0           1  0.874667\n",
              "1           2  0.874667\n",
              "2           3  0.896000\n",
              "3           4  0.898667\n",
              "4           5  0.922667\n",
              "5           6  0.930667\n",
              "6           7  0.925333\n",
              "7           8  0.933333\n",
              "8           9  0.917333\n",
              "9          10  0.925333\n",
              "10         11  0.914667\n",
              "11         12  0.917333\n",
              "12         13  0.914667\n",
              "13         14  0.914667\n",
              "14         15  0.914667\n",
              "15         16  0.917333\n",
              "16         17  0.917333\n",
              "17         18  0.917333\n",
              "18         19  0.917333\n",
              "19         20  0.917333\n",
              "20         21  0.917333\n",
              "21         22  0.917333\n",
              "22         23  0.917333\n",
              "23         24  0.917333\n",
              "24         25  0.917333\n",
              "25         26  0.917333\n",
              "26         27  0.917333\n",
              "27         28  0.917333\n",
              "28         29  0.917333\n",
              "29         30  0.917333\n",
              "30         31  0.917333\n",
              "31         32  0.917333\n",
              "32         33  0.917333\n",
              "33         34  0.917333\n",
              "34         35  0.917333\n",
              "35         36  0.917333\n",
              "36         37  0.917333\n",
              "37         38  0.917333\n",
              "38         39  0.917333\n",
              "39         40  0.917333"
            ],
            "text/html": [
              "\n",
              "  <div id=\"df-ccdc8e5c-86df-4fcd-b157-c4f4845a37fd\">\n",
              "    <div class=\"colab-df-container\">\n",
              "      <div>\n",
              "<style scoped>\n",
              "    .dataframe tbody tr th:only-of-type {\n",
              "        vertical-align: middle;\n",
              "    }\n",
              "\n",
              "    .dataframe tbody tr th {\n",
              "        vertical-align: top;\n",
              "    }\n",
              "\n",
              "    .dataframe thead th {\n",
              "        text-align: right;\n",
              "    }\n",
              "</style>\n",
              "<table border=\"1\" class=\"dataframe\">\n",
              "  <thead>\n",
              "    <tr style=\"text-align: right;\">\n",
              "      <th></th>\n",
              "      <th>max_depth</th>\n",
              "      <th>accuracy</th>\n",
              "    </tr>\n",
              "  </thead>\n",
              "  <tbody>\n",
              "    <tr>\n",
              "      <th>0</th>\n",
              "      <td>1</td>\n",
              "      <td>0.874667</td>\n",
              "    </tr>\n",
              "    <tr>\n",
              "      <th>1</th>\n",
              "      <td>2</td>\n",
              "      <td>0.874667</td>\n",
              "    </tr>\n",
              "    <tr>\n",
              "      <th>2</th>\n",
              "      <td>3</td>\n",
              "      <td>0.896000</td>\n",
              "    </tr>\n",
              "    <tr>\n",
              "      <th>3</th>\n",
              "      <td>4</td>\n",
              "      <td>0.898667</td>\n",
              "    </tr>\n",
              "    <tr>\n",
              "      <th>4</th>\n",
              "      <td>5</td>\n",
              "      <td>0.922667</td>\n",
              "    </tr>\n",
              "    <tr>\n",
              "      <th>5</th>\n",
              "      <td>6</td>\n",
              "      <td>0.930667</td>\n",
              "    </tr>\n",
              "    <tr>\n",
              "      <th>6</th>\n",
              "      <td>7</td>\n",
              "      <td>0.925333</td>\n",
              "    </tr>\n",
              "    <tr>\n",
              "      <th>7</th>\n",
              "      <td>8</td>\n",
              "      <td>0.933333</td>\n",
              "    </tr>\n",
              "    <tr>\n",
              "      <th>8</th>\n",
              "      <td>9</td>\n",
              "      <td>0.917333</td>\n",
              "    </tr>\n",
              "    <tr>\n",
              "      <th>9</th>\n",
              "      <td>10</td>\n",
              "      <td>0.925333</td>\n",
              "    </tr>\n",
              "    <tr>\n",
              "      <th>10</th>\n",
              "      <td>11</td>\n",
              "      <td>0.914667</td>\n",
              "    </tr>\n",
              "    <tr>\n",
              "      <th>11</th>\n",
              "      <td>12</td>\n",
              "      <td>0.917333</td>\n",
              "    </tr>\n",
              "    <tr>\n",
              "      <th>12</th>\n",
              "      <td>13</td>\n",
              "      <td>0.914667</td>\n",
              "    </tr>\n",
              "    <tr>\n",
              "      <th>13</th>\n",
              "      <td>14</td>\n",
              "      <td>0.914667</td>\n",
              "    </tr>\n",
              "    <tr>\n",
              "      <th>14</th>\n",
              "      <td>15</td>\n",
              "      <td>0.914667</td>\n",
              "    </tr>\n",
              "    <tr>\n",
              "      <th>15</th>\n",
              "      <td>16</td>\n",
              "      <td>0.917333</td>\n",
              "    </tr>\n",
              "    <tr>\n",
              "      <th>16</th>\n",
              "      <td>17</td>\n",
              "      <td>0.917333</td>\n",
              "    </tr>\n",
              "    <tr>\n",
              "      <th>17</th>\n",
              "      <td>18</td>\n",
              "      <td>0.917333</td>\n",
              "    </tr>\n",
              "    <tr>\n",
              "      <th>18</th>\n",
              "      <td>19</td>\n",
              "      <td>0.917333</td>\n",
              "    </tr>\n",
              "    <tr>\n",
              "      <th>19</th>\n",
              "      <td>20</td>\n",
              "      <td>0.917333</td>\n",
              "    </tr>\n",
              "    <tr>\n",
              "      <th>20</th>\n",
              "      <td>21</td>\n",
              "      <td>0.917333</td>\n",
              "    </tr>\n",
              "    <tr>\n",
              "      <th>21</th>\n",
              "      <td>22</td>\n",
              "      <td>0.917333</td>\n",
              "    </tr>\n",
              "    <tr>\n",
              "      <th>22</th>\n",
              "      <td>23</td>\n",
              "      <td>0.917333</td>\n",
              "    </tr>\n",
              "    <tr>\n",
              "      <th>23</th>\n",
              "      <td>24</td>\n",
              "      <td>0.917333</td>\n",
              "    </tr>\n",
              "    <tr>\n",
              "      <th>24</th>\n",
              "      <td>25</td>\n",
              "      <td>0.917333</td>\n",
              "    </tr>\n",
              "    <tr>\n",
              "      <th>25</th>\n",
              "      <td>26</td>\n",
              "      <td>0.917333</td>\n",
              "    </tr>\n",
              "    <tr>\n",
              "      <th>26</th>\n",
              "      <td>27</td>\n",
              "      <td>0.917333</td>\n",
              "    </tr>\n",
              "    <tr>\n",
              "      <th>27</th>\n",
              "      <td>28</td>\n",
              "      <td>0.917333</td>\n",
              "    </tr>\n",
              "    <tr>\n",
              "      <th>28</th>\n",
              "      <td>29</td>\n",
              "      <td>0.917333</td>\n",
              "    </tr>\n",
              "    <tr>\n",
              "      <th>29</th>\n",
              "      <td>30</td>\n",
              "      <td>0.917333</td>\n",
              "    </tr>\n",
              "    <tr>\n",
              "      <th>30</th>\n",
              "      <td>31</td>\n",
              "      <td>0.917333</td>\n",
              "    </tr>\n",
              "    <tr>\n",
              "      <th>31</th>\n",
              "      <td>32</td>\n",
              "      <td>0.917333</td>\n",
              "    </tr>\n",
              "    <tr>\n",
              "      <th>32</th>\n",
              "      <td>33</td>\n",
              "      <td>0.917333</td>\n",
              "    </tr>\n",
              "    <tr>\n",
              "      <th>33</th>\n",
              "      <td>34</td>\n",
              "      <td>0.917333</td>\n",
              "    </tr>\n",
              "    <tr>\n",
              "      <th>34</th>\n",
              "      <td>35</td>\n",
              "      <td>0.917333</td>\n",
              "    </tr>\n",
              "    <tr>\n",
              "      <th>35</th>\n",
              "      <td>36</td>\n",
              "      <td>0.917333</td>\n",
              "    </tr>\n",
              "    <tr>\n",
              "      <th>36</th>\n",
              "      <td>37</td>\n",
              "      <td>0.917333</td>\n",
              "    </tr>\n",
              "    <tr>\n",
              "      <th>37</th>\n",
              "      <td>38</td>\n",
              "      <td>0.917333</td>\n",
              "    </tr>\n",
              "    <tr>\n",
              "      <th>38</th>\n",
              "      <td>39</td>\n",
              "      <td>0.917333</td>\n",
              "    </tr>\n",
              "    <tr>\n",
              "      <th>39</th>\n",
              "      <td>40</td>\n",
              "      <td>0.917333</td>\n",
              "    </tr>\n",
              "  </tbody>\n",
              "</table>\n",
              "</div>\n",
              "      <button class=\"colab-df-convert\" onclick=\"convertToInteractive('df-ccdc8e5c-86df-4fcd-b157-c4f4845a37fd')\"\n",
              "              title=\"Convert this dataframe to an interactive table.\"\n",
              "              style=\"display:none;\">\n",
              "        \n",
              "  <svg xmlns=\"http://www.w3.org/2000/svg\" height=\"24px\"viewBox=\"0 0 24 24\"\n",
              "       width=\"24px\">\n",
              "    <path d=\"M0 0h24v24H0V0z\" fill=\"none\"/>\n",
              "    <path d=\"M18.56 5.44l.94 2.06.94-2.06 2.06-.94-2.06-.94-.94-2.06-.94 2.06-2.06.94zm-11 1L8.5 8.5l.94-2.06 2.06-.94-2.06-.94L8.5 2.5l-.94 2.06-2.06.94zm10 10l.94 2.06.94-2.06 2.06-.94-2.06-.94-.94-2.06-.94 2.06-2.06.94z\"/><path d=\"M17.41 7.96l-1.37-1.37c-.4-.4-.92-.59-1.43-.59-.52 0-1.04.2-1.43.59L10.3 9.45l-7.72 7.72c-.78.78-.78 2.05 0 2.83L4 21.41c.39.39.9.59 1.41.59.51 0 1.02-.2 1.41-.59l7.78-7.78 2.81-2.81c.8-.78.8-2.07 0-2.86zM5.41 20L4 18.59l7.72-7.72 1.47 1.35L5.41 20z\"/>\n",
              "  </svg>\n",
              "      </button>\n",
              "      \n",
              "  <style>\n",
              "    .colab-df-container {\n",
              "      display:flex;\n",
              "      flex-wrap:wrap;\n",
              "      gap: 12px;\n",
              "    }\n",
              "\n",
              "    .colab-df-convert {\n",
              "      background-color: #E8F0FE;\n",
              "      border: none;\n",
              "      border-radius: 50%;\n",
              "      cursor: pointer;\n",
              "      display: none;\n",
              "      fill: #1967D2;\n",
              "      height: 32px;\n",
              "      padding: 0 0 0 0;\n",
              "      width: 32px;\n",
              "    }\n",
              "\n",
              "    .colab-df-convert:hover {\n",
              "      background-color: #E2EBFA;\n",
              "      box-shadow: 0px 1px 2px rgba(60, 64, 67, 0.3), 0px 1px 3px 1px rgba(60, 64, 67, 0.15);\n",
              "      fill: #174EA6;\n",
              "    }\n",
              "\n",
              "    [theme=dark] .colab-df-convert {\n",
              "      background-color: #3B4455;\n",
              "      fill: #D2E3FC;\n",
              "    }\n",
              "\n",
              "    [theme=dark] .colab-df-convert:hover {\n",
              "      background-color: #434B5C;\n",
              "      box-shadow: 0px 1px 3px 1px rgba(0, 0, 0, 0.15);\n",
              "      filter: drop-shadow(0px 1px 2px rgba(0, 0, 0, 0.3));\n",
              "      fill: #FFFFFF;\n",
              "    }\n",
              "  </style>\n",
              "\n",
              "      <script>\n",
              "        const buttonEl =\n",
              "          document.querySelector('#df-ccdc8e5c-86df-4fcd-b157-c4f4845a37fd button.colab-df-convert');\n",
              "        buttonEl.style.display =\n",
              "          google.colab.kernel.accessAllowed ? 'block' : 'none';\n",
              "\n",
              "        async function convertToInteractive(key) {\n",
              "          const element = document.querySelector('#df-ccdc8e5c-86df-4fcd-b157-c4f4845a37fd');\n",
              "          const dataTable =\n",
              "            await google.colab.kernel.invokeFunction('convertToInteractive',\n",
              "                                                     [key], {});\n",
              "          if (!dataTable) return;\n",
              "\n",
              "          const docLinkHtml = 'Like what you see? Visit the ' +\n",
              "            '<a target=\"_blank\" href=https://colab.research.google.com/notebooks/data_table.ipynb>data table notebook</a>'\n",
              "            + ' to learn more about interactive tables.';\n",
              "          element.innerHTML = '';\n",
              "          dataTable['output_type'] = 'display_data';\n",
              "          await google.colab.output.renderOutput(dataTable, element);\n",
              "          const docLink = document.createElement('div');\n",
              "          docLink.innerHTML = docLinkHtml;\n",
              "          element.appendChild(docLink);\n",
              "        }\n",
              "      </script>\n",
              "    </div>\n",
              "  </div>\n",
              "  "
            ]
          },
          "metadata": {},
          "execution_count": 25
        }
      ]
    },
    {
      "cell_type": "code",
      "source": [
        "plt.plot(accuracy_frame[\"max_depth\"], accuracy_frame[\"accuracy\"], marker=\"o\")\n",
        "plt.xlabel(\"Depth of Tree\")\n",
        "plt.ylabel(\"Performance\")\n",
        "max(accuracy_frame[\"accuracy\"])"
      ],
      "metadata": {
        "colab": {
          "base_uri": "https://localhost:8080/",
          "height": 296
        },
        "id": "rSCWZfHPegB5",
        "outputId": "70e03a65-b948-4528-8420-fe72a73506ab"
      },
      "execution_count": null,
      "outputs": [
        {
          "output_type": "execute_result",
          "data": {
            "text/plain": [
              "0.9333333333333333"
            ]
          },
          "metadata": {},
          "execution_count": 26
        },
        {
          "output_type": "display_data",
          "data": {
            "text/plain": [
              "<Figure size 432x288 with 1 Axes>"
            ],
            "image/png": "[encoded data removed]"
          },
          "metadata": {
            "needs_background": "light"
          }
        }
      ]
    },
    {
      "cell_type": "code",
      "source": [
        "path = dt.cost_complexity_pruning_path(x_train, y_train)\n",
        "ccp_alphas = path.ccp_alphas[:-1]\n",
        "dt_list = []\n",
        "\n",
        "for alpha in ccp_alphas:\n",
        "  dtx = DecisionTreeClassifier(random_state=10, ccp_alpha=alpha)\n",
        "  dtx.fit(x_train, y_train)\n",
        "  dt_list.append(dtx)\n",
        "\n",
        "test_accuracy = [dtx.score(x_test, y_test) for dtx in dt_list]\n",
        "plt.plot(ccp_alphas, test_accuracy, marker=\"o\", color=\"r\")\n",
        "plt.xlabel(\"Alphas\")\n",
        "plt.ylabel(\"Test Accuracy\")"
      ],
      "metadata": {
        "colab": {
          "base_uri": "https://localhost:8080/",
          "height": 296
        },
        "id": "zMVdmP3qWUaM",
        "outputId": "fbde6e69-555f-4173-ee73-4de03bfe2b26"
      },
      "execution_count": null,
      "outputs": [
        {
          "output_type": "execute_result",
          "data": {
            "text/plain": [
              "Text(0, 0.5, 'Test Accuracy')"
            ]
          },
          "metadata": {},
          "execution_count": 27
        },
        {
          "output_type": "display_data",
          "data": {
            "text/plain": [
              "<Figure size 432x288 with 1 Axes>"
            ],
            "image/png": "[encoded data removed]"
          },
          "metadata": {
            "needs_background": "light"
          }
        }
      ]
    },
    {
      "cell_type": "code",
      "source": [
        "dt2 = DecisionTreeClassifier(max_depth=5, max_leaf_nodes=25, random_state=10, ccp_alpha=0.002)\n",
        "dt2.fit(x_train, y_train)\n",
        "dt2.score(x_test, y_test)"
      ],
      "metadata": {
        "colab": {
          "base_uri": "https://localhost:8080/"
        },
        "id": "925W_IrwpWSV",
        "outputId": "455723c4-dafa-40d2-bf45-76ffba155e77"
      },
      "execution_count": null,
      "outputs": [
        {
          "output_type": "execute_result",
          "data": {
            "text/plain": [
              "0.92"
            ]
          },
          "metadata": {},
          "execution_count": 28
        }
      ]
    },
    {
      "cell_type": "code",
      "source": [
        "decision_tree = tree.export_graphviz(dt2, out_file=\"sba_tree2.dot\", feature_names=x_train.columns, max_depth=5, filled=True)\n",
        "!dot -Tpng sba_tree2.dot -o sba_tree2.png\n",
        "img = plt.imread(\"sba_tree2.png\")\n",
        "plt.figure(figsize=(15, 15))\n",
        "plt.imshow(img)\n",
        "tree.plot_tree(dt2,\n",
        "               feature_names = x_train.columns, \n",
        "               class_names=[\"No Default\", \"Default\"],\n",
        "               filled = True)"
      ],
      "metadata": {
        "colab": {
          "base_uri": "https://localhost:8080/",
          "height": 1000
        },
        "id": "i20FyE4xrOvS",
        "outputId": "cba3ce57-09cd-4b01-bd2a-916574438970"
      },
      "execution_count": null,
      "outputs": [
        {
          "output_type": "execute_result",
          "data": {
            "text/plain": [
              "[Text(0.5714285714285714, 0.9166666666666666, 'Term <= 79.5\\ngini = 0.461\\nsamples = 1498\\nvalue = [958, 540]\\nclass = No Default'),\n",
              " Text(0.42857142857142855, 0.75, 'Franchise <= 0.5\\ngini = 0.307\\nsamples = 576\\nvalue = [109, 467]\\nclass = Default'),\n",
              " Text(0.35714285714285715, 0.5833333333333334, 'Term <= 59.5\\ngini = 0.417\\nsamples = 310\\nvalue = [92, 218]\\nclass = Default'),\n",
              " Text(0.21428571428571427, 0.4166666666666667, 'Term <= 36.5\\ngini = 0.318\\nsamples = 227\\nvalue = [45, 182]\\nclass = Default'),\n",
              " Text(0.14285714285714285, 0.25, 'Term <= 35.5\\ngini = 0.434\\nsamples = 129\\nvalue = [41, 88]\\nclass = Default'),\n",
              " Text(0.07142857142857142, 0.08333333333333333, 'gini = 0.259\\nsamples = 98\\nvalue = [15, 83]\\nclass = Default'),\n",
              " Text(0.21428571428571427, 0.08333333333333333, 'gini = 0.271\\nsamples = 31\\nvalue = [26, 5]\\nclass = No Default'),\n",
              " Text(0.2857142857142857, 0.25, 'gini = 0.078\\nsamples = 98\\nvalue = [4, 94]\\nclass = Default'),\n",
              " Text(0.5, 0.4166666666666667, 'Term <= 60.5\\ngini = 0.491\\nsamples = 83\\nvalue = [47, 36]\\nclass = No Default'),\n",
              " Text(0.42857142857142855, 0.25, 'gini = 0.049\\nsamples = 40\\nvalue = [39, 1]\\nclass = No Default'),\n",
              " Text(0.5714285714285714, 0.25, 'gini = 0.303\\nsamples = 43\\nvalue = [8, 35]\\nclass = Default'),\n",
              " Text(0.5, 0.5833333333333334, 'gini = 0.12\\nsamples = 266\\nvalue = [17, 249]\\nclass = Default'),\n",
              " Text(0.7142857142857143, 0.75, 'Term <= 86.0\\ngini = 0.146\\nsamples = 922\\nvalue = [849, 73]\\nclass = No Default'),\n",
              " Text(0.6428571428571429, 0.5833333333333334, 'gini = 0.033\\nsamples = 363\\nvalue = [357, 6]\\nclass = No Default'),\n",
              " Text(0.7857142857142857, 0.5833333333333334, 'Term <= 112.5\\ngini = 0.211\\nsamples = 559\\nvalue = [492, 67]\\nclass = No Default'),\n",
              " Text(0.7142857142857143, 0.4166666666666667, 'gini = 0.406\\nsamples = 53\\nvalue = [15, 38]\\nclass = Default'),\n",
              " Text(0.8571428571428571, 0.4166666666666667, 'Portion <= 0.775\\ngini = 0.108\\nsamples = 506\\nvalue = [477, 29]\\nclass = No Default'),\n",
              " Text(0.7857142857142857, 0.25, 'Term <= 292.5\\ngini = 0.196\\nsamples = 263\\nvalue = [234, 29]\\nclass = No Default'),\n",
              " Text(0.7142857142857143, 0.08333333333333333, 'gini = 0.36\\nsamples = 123\\nvalue = [94, 29]\\nclass = No Default'),\n",
              " Text(0.8571428571428571, 0.08333333333333333, 'gini = 0.0\\nsamples = 140\\nvalue = [140, 0]\\nclass = No Default'),\n",
              " Text(0.9285714285714286, 0.25, 'gini = 0.0\\nsamples = 243\\nvalue = [243, 0]\\nclass = No Default')]"
            ]
          },
          "metadata": {},
          "execution_count": 29
        },
        {
          "output_type": "display_data",
          "data": {
            "text/plain": [
              "<Figure size 1080x1080 with 1 Axes>"
            ],
            "image/png": "[encoded data removed]"
          },
          "metadata": {
            "needs_background": "light"
          }
        }
      ]
    },
    {
      "cell_type": "code",
      "source": [
        "from sklearn.metrics import confusion_matrix\n",
        "from sklearn.metrics import classification_report\n",
        "\n",
        "matrix = confusion_matrix(dt2.predict(x_test), y_test, labels=[1,0])\n",
        "print('Confusion matrix : \\n', matrix)\n",
        "#18 is false positives (predicted it would default but it did not), 4 is false negatives (predicted would not default but it did)\n",
        "#model correctly classified 131 instances when the loan actually did default and 222 instances when the loan did not default\n",
        "\n",
        "print(\"Accuracy : \\n\", (131+222)/(130+222+22))"
      ],
      "metadata": {
        "colab": {
          "base_uri": "https://localhost:8080/"
        },
        "id": "Nb2KBlDAtPkb",
        "outputId": "db40c8d6-4576-479d-e391-fb8ab03b2295"
      },
      "execution_count": null,
      "outputs": [
        {
          "output_type": "stream",
          "name": "stdout",
          "text": [
            "Confusion matrix : \n",
            " [[125  20]\n",
            " [ 10 220]]\n",
            "Accuracy : \n",
            " 0.9438502673796791\n"
          ]
        }
      ]
    },
    {
      "cell_type": "code",
      "source": [
        "x_test_copy = x_test.copy()\n",
        "x_test_copy[\"Predictions\"] = dt2.predict(x_test)\n",
        "x_test_copy[\"Actual\"] = y_test\n",
        "#x_test_copy[(x_test_copy[\"Predictions\"] == 1) & (x_test_copy[\"Actual\"] == 0)]"
      ],
      "metadata": {
        "id": "1Jrp4Wcr6qev"
      },
      "execution_count": null,
      "outputs": []
    },
    {
      "cell_type": "markdown",
      "source": [
        "Descriptive Values/Statistics/Graphs"
      ],
      "metadata": {
        "id": "dNrp-6ecrtFB"
      }
    },
    {
      "cell_type": "code",
      "source": [
        "df.describe()"
      ],
      "metadata": {
        "colab": {
          "base_uri": "https://localhost:8080/",
          "height": 344
        },
        "id": "fL3gjLBiwK-N",
        "outputId": "ba59ad3a-a02d-44e6-ab7f-4e901f6a694c"
      },
      "execution_count": null,
      "outputs": [
        {
          "output_type": "execute_result",
          "data": {
            "text/plain": [
              "        ApprovalFY         Term        NoEmp    Franchise        Urban  \\\n",
              "count  1873.000000  1873.000000  1873.000000  1873.000000  1873.000000   \n",
              "mean   2005.157501   122.406834    10.192739     0.337427     0.920448   \n",
              "std       2.268624    92.835888    36.093846     0.472958     0.270670   \n",
              "min    2000.000000     0.000000     0.000000     0.000000     0.000000   \n",
              "25%    2004.000000    59.000000     2.000000     0.000000     1.000000   \n",
              "50%    2006.000000    84.000000     3.000000     0.000000     1.000000   \n",
              "75%    2007.000000   240.000000     8.000000     1.000000     1.000000   \n",
              "max    2012.000000   306.000000   650.000000     1.000000     1.000000   \n",
              "\n",
              "         Revolving      Low_Doc          New   RealEstate      Portion  \\\n",
              "count  1873.000000  1873.000000  1873.000000  1873.000000  1873.000000   \n",
              "mean      0.391351     0.012814     0.145222     0.264816     0.654557   \n",
              "std       0.488183     0.112500     0.352418     0.441353     0.187696   \n",
              "min       0.000000     0.000000     0.000000     0.000000     0.382369   \n",
              "25%       0.000000     0.000000     0.000000     0.000000     0.500000   \n",
              "50%       0.000000     0.000000     0.000000     0.000000     0.500000   \n",
              "75%       1.000000     0.000000     0.000000     1.000000     0.750000   \n",
              "max       1.000000     1.000000     1.000000     1.000000     1.000000   \n",
              "\n",
              "         Recession      Default  \n",
              "count  1873.000000  1873.000000  \n",
              "mean      0.068340     0.360384  \n",
              "std       0.252395     0.480240  \n",
              "min       0.000000     0.000000  \n",
              "25%       0.000000     0.000000  \n",
              "50%       0.000000     0.000000  \n",
              "75%       0.000000     1.000000  \n",
              "max       1.000000     1.000000  "
            ],
            "text/html": [
              "\n",
              "  <div id=\"df-d93d0fac-bd07-4c32-bac6-d8631dbccad1\">\n",
              "    <div class=\"colab-df-container\">\n",
              "      <div>\n",
              "<style scoped>\n",
              "    .dataframe tbody tr th:only-of-type {\n",
              "        vertical-align: middle;\n",
              "    }\n",
              "\n",
              "    .dataframe tbody tr th {\n",
              "        vertical-align: top;\n",
              "    }\n",
              "\n",
              "    .dataframe thead th {\n",
              "        text-align: right;\n",
              "    }\n",
              "</style>\n",
              "<table border=\"1\" class=\"dataframe\">\n",
              "  <thead>\n",
              "    <tr style=\"text-align: right;\">\n",
              "      <th></th>\n",
              "      <th>ApprovalFY</th>\n",
              "      <th>Term</th>\n",
              "      <th>NoEmp</th>\n",
              "      <th>Franchise</th>\n",
              "      <th>Urban</th>\n",
              "      <th>Revolving</th>\n",
              "      <th>Low_Doc</th>\n",
              "      <th>New</th>\n",
              "      <th>RealEstate</th>\n",
              "      <th>Portion</th>\n",
              "      <th>Recession</th>\n",
              "      <th>Default</th>\n",
              "    </tr>\n",
              "  </thead>\n",
              "  <tbody>\n",
              "    <tr>\n",
              "      <th>count</th>\n",
              "      <td>1873.000000</td>\n",
              "      <td>1873.000000</td>\n",
              "      <td>1873.000000</td>\n",
              "      <td>1873.000000</td>\n",
              "      <td>1873.000000</td>\n",
              "      <td>1873.000000</td>\n",
              "      <td>1873.000000</td>\n",
              "      <td>1873.000000</td>\n",
              "      <td>1873.000000</td>\n",
              "      <td>1873.000000</td>\n",
              "      <td>1873.000000</td>\n",
              "      <td>1873.000000</td>\n",
              "    </tr>\n",
              "    <tr>\n",
              "      <th>mean</th>\n",
              "      <td>2005.157501</td>\n",
              "      <td>122.406834</td>\n",
              "      <td>10.192739</td>\n",
              "      <td>0.337427</td>\n",
              "      <td>0.920448</td>\n",
              "      <td>0.391351</td>\n",
              "      <td>0.012814</td>\n",
              "      <td>0.145222</td>\n",
              "      <td>0.264816</td>\n",
              "      <td>0.654557</td>\n",
              "      <td>0.068340</td>\n",
              "      <td>0.360384</td>\n",
              "    </tr>\n",
              "    <tr>\n",
              "      <th>std</th>\n",
              "      <td>2.268624</td>\n",
              "      <td>92.835888</td>\n",
              "      <td>36.093846</td>\n",
              "      <td>0.472958</td>\n",
              "      <td>0.270670</td>\n",
              "      <td>0.488183</td>\n",
              "      <td>0.112500</td>\n",
              "      <td>0.352418</td>\n",
              "      <td>0.441353</td>\n",
              "      <td>0.187696</td>\n",
              "      <td>0.252395</td>\n",
              "      <td>0.480240</td>\n",
              "    </tr>\n",
              "    <tr>\n",
              "      <th>min</th>\n",
              "      <td>2000.000000</td>\n",
              "      <td>0.000000</td>\n",
              "      <td>0.000000</td>\n",
              "      <td>0.000000</td>\n",
              "      <td>0.000000</td>\n",
              "      <td>0.000000</td>\n",
              "      <td>0.000000</td>\n",
              "      <td>0.000000</td>\n",
              "      <td>0.000000</td>\n",
              "      <td>0.382369</td>\n",
              "      <td>0.000000</td>\n",
              "      <td>0.000000</td>\n",
              "    </tr>\n",
              "    <tr>\n",
              "      <th>25%</th>\n",
              "      <td>2004.000000</td>\n",
              "      <td>59.000000</td>\n",
              "      <td>2.000000</td>\n",
              "      <td>0.000000</td>\n",
              "      <td>1.000000</td>\n",
              "      <td>0.000000</td>\n",
              "      <td>0.000000</td>\n",
              "      <td>0.000000</td>\n",
              "      <td>0.000000</td>\n",
              "      <td>0.500000</td>\n",
              "      <td>0.000000</td>\n",
              "      <td>0.000000</td>\n",
              "    </tr>\n",
              "    <tr>\n",
              "      <th>50%</th>\n",
              "      <td>2006.000000</td>\n",
              "      <td>84.000000</td>\n",
              "      <td>3.000000</td>\n",
              "      <td>0.000000</td>\n",
              "      <td>1.000000</td>\n",
              "      <td>0.000000</td>\n",
              "      <td>0.000000</td>\n",
              "      <td>0.000000</td>\n",
              "      <td>0.000000</td>\n",
              "      <td>0.500000</td>\n",
              "      <td>0.000000</td>\n",
              "      <td>0.000000</td>\n",
              "    </tr>\n",
              "    <tr>\n",
              "      <th>75%</th>\n",
              "      <td>2007.000000</td>\n",
              "      <td>240.000000</td>\n",
              "      <td>8.000000</td>\n",
              "      <td>1.000000</td>\n",
              "      <td>1.000000</td>\n",
              "      <td>1.000000</td>\n",
              "      <td>0.000000</td>\n",
              "      <td>0.000000</td>\n",
              "      <td>1.000000</td>\n",
              "      <td>0.750000</td>\n",
              "      <td>0.000000</td>\n",
              "      <td>1.000000</td>\n",
              "    </tr>\n",
              "    <tr>\n",
              "      <th>max</th>\n",
              "      <td>2012.000000</td>\n",
              "      <td>306.000000</td>\n",
              "      <td>650.000000</td>\n",
              "      <td>1.000000</td>\n",
              "      <td>1.000000</td>\n",
              "      <td>1.000000</td>\n",
              "      <td>1.000000</td>\n",
              "      <td>1.000000</td>\n",
              "      <td>1.000000</td>\n",
              "      <td>1.000000</td>\n",
              "      <td>1.000000</td>\n",
              "      <td>1.000000</td>\n",
              "    </tr>\n",
              "  </tbody>\n",
              "</table>\n",
              "</div>\n",
              "      <button class=\"colab-df-convert\" onclick=\"convertToInteractive('df-d93d0fac-bd07-4c32-bac6-d8631dbccad1')\"\n",
              "              title=\"Convert this dataframe to an interactive table.\"\n",
              "              style=\"display:none;\">\n",
              "        \n",
              "  <svg xmlns=\"http://www.w3.org/2000/svg\" height=\"24px\"viewBox=\"0 0 24 24\"\n",
              "       width=\"24px\">\n",
              "    <path d=\"M0 0h24v24H0V0z\" fill=\"none\"/>\n",
              "    <path d=\"M18.56 5.44l.94 2.06.94-2.06 2.06-.94-2.06-.94-.94-2.06-.94 2.06-2.06.94zm-11 1L8.5 8.5l.94-2.06 2.06-.94-2.06-.94L8.5 2.5l-.94 2.06-2.06.94zm10 10l.94 2.06.94-2.06 2.06-.94-2.06-.94-.94-2.06-.94 2.06-2.06.94z\"/><path d=\"M17.41 7.96l-1.37-1.37c-.4-.4-.92-.59-1.43-.59-.52 0-1.04.2-1.43.59L10.3 9.45l-7.72 7.72c-.78.78-.78 2.05 0 2.83L4 21.41c.39.39.9.59 1.41.59.51 0 1.02-.2 1.41-.59l7.78-7.78 2.81-2.81c.8-.78.8-2.07 0-2.86zM5.41 20L4 18.59l7.72-7.72 1.47 1.35L5.41 20z\"/>\n",
              "  </svg>\n",
              "      </button>\n",
              "      \n",
              "  <style>\n",
              "    .colab-df-container {\n",
              "      display:flex;\n",
              "      flex-wrap:wrap;\n",
              "      gap: 12px;\n",
              "    }\n",
              "\n",
              "    .colab-df-convert {\n",
              "      background-color: #E8F0FE;\n",
              "      border: none;\n",
              "      border-radius: 50%;\n",
              "      cursor: pointer;\n",
              "      display: none;\n",
              "      fill: #1967D2;\n",
              "      height: 32px;\n",
              "      padding: 0 0 0 0;\n",
              "      width: 32px;\n",
              "    }\n",
              "\n",
              "    .colab-df-convert:hover {\n",
              "      background-color: #E2EBFA;\n",
              "      box-shadow: 0px 1px 2px rgba(60, 64, 67, 0.3), 0px 1px 3px 1px rgba(60, 64, 67, 0.15);\n",
              "      fill: #174EA6;\n",
              "    }\n",
              "\n",
              "    [theme=dark] .colab-df-convert {\n",
              "      background-color: #3B4455;\n",
              "      fill: #D2E3FC;\n",
              "    }\n",
              "\n",
              "    [theme=dark] .colab-df-convert:hover {\n",
              "      background-color: #434B5C;\n",
              "      box-shadow: 0px 1px 3px 1px rgba(0, 0, 0, 0.15);\n",
              "      filter: drop-shadow(0px 1px 2px rgba(0, 0, 0, 0.3));\n",
              "      fill: #FFFFFF;\n",
              "    }\n",
              "  </style>\n",
              "\n",
              "      <script>\n",
              "        const buttonEl =\n",
              "          document.querySelector('#df-d93d0fac-bd07-4c32-bac6-d8631dbccad1 button.colab-df-convert');\n",
              "        buttonEl.style.display =\n",
              "          google.colab.kernel.accessAllowed ? 'block' : 'none';\n",
              "\n",
              "        async function convertToInteractive(key) {\n",
              "          const element = document.querySelector('#df-d93d0fac-bd07-4c32-bac6-d8631dbccad1');\n",
              "          const dataTable =\n",
              "            await google.colab.kernel.invokeFunction('convertToInteractive',\n",
              "                                                     [key], {});\n",
              "          if (!dataTable) return;\n",
              "\n",
              "          const docLinkHtml = 'Like what you see? Visit the ' +\n",
              "            '<a target=\"_blank\" href=https://colab.research.google.com/notebooks/data_table.ipynb>data table notebook</a>'\n",
              "            + ' to learn more about interactive tables.';\n",
              "          element.innerHTML = '';\n",
              "          dataTable['output_type'] = 'display_data';\n",
              "          await google.colab.output.renderOutput(dataTable, element);\n",
              "          const docLink = document.createElement('div');\n",
              "          docLink.innerHTML = docLinkHtml;\n",
              "          element.appendChild(docLink);\n",
              "        }\n",
              "      </script>\n",
              "    </div>\n",
              "  </div>\n",
              "  "
            ]
          },
          "metadata": {},
          "execution_count": 32
        }
      ]
    },
    {
      "cell_type": "code",
      "source": [
        "len(df[df[\"Default\"] == 1]) / len(df[\"Default\"])\n",
        "#36% of all approved loans defaulted"
      ],
      "metadata": {
        "colab": {
          "base_uri": "https://localhost:8080/"
        },
        "id": "RaYkCgz3rvTX",
        "outputId": "6e5a95d6-be09-4ce8-b409-0078792778d5"
      },
      "execution_count": null,
      "outputs": [
        {
          "output_type": "execute_result",
          "data": {
            "text/plain": [
              "0.3603844100373732"
            ]
          },
          "metadata": {},
          "execution_count": 33
        }
      ]
    },
    {
      "cell_type": "code",
      "source": [
        "yes_real_estate = df[df[\"RealEstate\"] == 1]\n",
        "yes_re = len(yes_real_estate[yes_real_estate[\"Default\"] == 1]) / len(yes_real_estate[\"Default\"])\n",
        "\n",
        "no_real_estate = df[df[\"RealEstate\"] == 0]\n",
        "no_re = len(no_real_estate[no_real_estate[\"Default\"] == 1]) / len(no_real_estate[\"Default\"])\n",
        "print(yes_re, no_re)"
      ],
      "metadata": {
        "colab": {
          "base_uri": "https://localhost:8080/"
        },
        "id": "p0E-oXu1wIP-",
        "outputId": "07d134ce-c0de-4ae5-8220-ec59c6f06e37"
      },
      "execution_count": null,
      "outputs": [
        {
          "output_type": "stream",
          "name": "stdout",
          "text": [
            "0.05241935483870968 0.4713144517066086\n"
          ]
        }
      ]
    },
    {
      "cell_type": "code",
      "source": [
        "yes_real_estate = df[df[\"Recession\"] == 1]\n",
        "yes_rec = len(yes_real_estate[yes_real_estate[\"Default\"] == 1]) / len(yes_real_estate[\"Default\"])\n",
        "\n",
        "no_real_estate = df[df[\"Recession\"] == 0]\n",
        "no_rec = len(no_real_estate[no_real_estate[\"Default\"] == 1]) / len(no_real_estate[\"Default\"])\n",
        "print(yes_rec, no_rec)\n",
        "print(len(df[df[\"Recession\"] == 1]) / len(df))"
      ],
      "metadata": {
        "colab": {
          "base_uri": "https://localhost:8080/"
        },
        "id": "WsMx_l-OC0Za",
        "outputId": "ff902675-65e8-457a-913a-b064146fa133"
      },
      "execution_count": null,
      "outputs": [
        {
          "output_type": "stream",
          "name": "stdout",
          "text": [
            "0.6171875 0.34154727793696277\n",
            "0.06833956219967965\n"
          ]
        }
      ]
    },
    {
      "cell_type": "code",
      "source": [
        "sns.histplot(data=df, x='Term', bins=np.arange(0, 350, 50), hue=\"Default\")"
      ],
      "metadata": {
        "colab": {
          "base_uri": "https://localhost:8080/",
          "height": 296
        },
        "id": "Y1d24N25_OBk",
        "outputId": "80c20244-449f-4e13-80ca-18028ccc4d0f"
      },
      "execution_count": null,
      "outputs": [
        {
          "output_type": "execute_result",
          "data": {
            "text/plain": [
              "<matplotlib.axes._subplots.AxesSubplot at 0x7f3513c656d0>"
            ]
          },
          "metadata": {},
          "execution_count": 36
        },
        {
          "output_type": "display_data",
          "data": {
            "text/plain": [
              "<Figure size 432x288 with 1 Axes>"
            ],
            "image/png": "[encoded data removed]"
          },
          "metadata": {
            "needs_background": "light"
          }
        }
      ]
    },
    {
      "cell_type": "markdown",
      "source": [
        "Bootstrapping"
      ],
      "metadata": {
        "id": "KLH75-7Ymblq"
      }
    },
    {
      "cell_type": "code",
      "source": [
        "from statsmodels.stats.proportion import proportions_ztest as ztest\n",
        "import statistics\n",
        "import random\n",
        "from random import sample\n",
        "from random import choice"
      ],
      "metadata": {
        "id": "_KX76PrXma9P",
        "colab": {
          "base_uri": "https://localhost:8080/"
        },
        "outputId": "ef603770-9f66-4db3-a973-6bdba82d95ab"
      },
      "execution_count": null,
      "outputs": [
        {
          "output_type": "stream",
          "name": "stderr",
          "text": [
            "/usr/local/lib/python3.7/dist-packages/statsmodels/tools/_testing.py:19: FutureWarning: pandas.util.testing is deprecated. Use the functions in the public API at pandas.testing instead.\n",
            "  import pandas.util.testing as tm\n"
          ]
        }
      ]
    },
    {
      "cell_type": "code",
      "source": [
        "def bootstrap(table, attribute):\n",
        "  arr = []\n",
        "  for i in np.arange(1, 1001):\n",
        "    bootstrap = np.random.choice(table[attribute].tolist(), len(table[attribute]), replace=True)\n",
        "    bootstrap_mean = np.mean(bootstrap)\n",
        "    arr.append(bootstrap_mean)\n",
        "  lower = np.percentile(arr, 2.5)\n",
        "  upper = np.percentile(arr, 97.5)\n",
        "  return [lower, upper]"
      ],
      "metadata": {
        "id": "LyFbGkM6mlxh"
      },
      "execution_count": null,
      "outputs": []
    },
    {
      "cell_type": "code",
      "source": [
        "default = df[df[\"Default\"] == 1]\n",
        "no_default = df[df[\"Default\"] == 0]"
      ],
      "metadata": {
        "id": "aPbnNoZLzSxU"
      },
      "execution_count": null,
      "outputs": []
    },
    {
      "cell_type": "code",
      "source": [
        "print(\"95% CI for portion covered by SBA for loans that defaulted: \", bootstrap(default, \"Portion\"))\n",
        "print(\"95% CI for portion covered by SBA for loans that did not default: \", bootstrap(no_default, \"Portion\"))"
      ],
      "metadata": {
        "colab": {
          "base_uri": "https://localhost:8080/"
        },
        "id": "Tv3LdxhXtrq-",
        "outputId": "bc2b84c2-5c72-44ea-c749-33431fcac00c"
      },
      "execution_count": null,
      "outputs": [
        {
          "output_type": "stream",
          "name": "stdout",
          "text": [
            "95% CI for portion covered by SBA for loans that defaulted:  [0.560146294911074, 0.5794074046014445]\n",
            "95% CI for portion covered by SBA for loans that did not default:  [0.6912734506517321, 0.7139393504769616]\n"
          ]
        }
      ]
    },
    {
      "cell_type": "code",
      "source": [
        "print(\"95% CI for terms for SBA loans that defaulted: \", bootstrap(default, \"Term\"))\n",
        "print(\"95% CI for terms for SBA for loans that did not default: \", bootstrap(no_default, \"Term\"))"
      ],
      "metadata": {
        "colab": {
          "base_uri": "https://localhost:8080/"
        },
        "id": "q3Fjiitvxldp",
        "outputId": "c286253a-92d4-42e0-8189-828886274d93"
      },
      "execution_count": null,
      "outputs": [
        {
          "output_type": "stream",
          "name": "stdout",
          "text": [
            "95% CI for terms for SBA loans that defaulted:  [58.662592592592596, 66.37551851851852]\n",
            "95% CI for terms for SBA for loans that did not default:  [150.9107262103506, 161.58134390651085]\n"
          ]
        }
      ]
    },
    {
      "cell_type": "code",
      "source": [
        "print(\"95% CI for defaulted loans that included real estate as collateral: \", bootstrap(default, \"RealEstate\"))\n",
        "print(\"95% CI for non-defaulted loans that included real estate as collateral: \", bootstrap(no_default, \"RealEstate\"))"
      ],
      "metadata": {
        "colab": {
          "base_uri": "https://localhost:8080/"
        },
        "id": "BBF6xXjNyDK5",
        "outputId": "479995c1-cae5-4f0f-b5b8-13f6bd856ce9"
      },
      "execution_count": null,
      "outputs": [
        {
          "output_type": "stream",
          "name": "stdout",
          "text": [
            "95% CI for defaulted loans that included real estate as collateral:  [0.025185185185185185, 0.05333333333333334]\n",
            "95% CI for non-defaulted loans that included real estate as collateral:  [0.3672787979966611, 0.41819699499165275]\n"
          ]
        }
      ]
    },
    {
      "cell_type": "code",
      "source": [
        "print(\"95% CI for number of people employed for a business that defaulted: \", bootstrap(default, \"NoEmp\"))\n",
        "print(\"95% CI for number of people employed for a business that did not default: \", bootstrap(no_default, \"NoEmp\"))"
      ],
      "metadata": {
        "colab": {
          "base_uri": "https://localhost:8080/"
        },
        "id": "sp_ch8ePyurH",
        "outputId": "9ca7658e-9767-47e9-93d8-ec5ff6b11e64"
      },
      "execution_count": null,
      "outputs": [
        {
          "output_type": "stream",
          "name": "stdout",
          "text": [
            "95% CI for number of people employed for a business that defaulted:  [4.205888888888889, 5.260777777777778]\n",
            "95% CI for number of people employed for a business that did not default:  [10.896181135225374, 15.958326377295492]\n"
          ]
        }
      ]
    },
    {
      "cell_type": "markdown",
      "source": [
        "Tensorflow"
      ],
      "metadata": {
        "id": "LK5NoC4tZW-j"
      }
    },
    {
      "cell_type": "code",
      "source": [
        "#from sklearn.preprocessing import StandardScaler\n",
        "\n",
        "#scaler = StandardScaler()\n",
        "#x_train_scaled = scaler.fit_transform(x_train)\n",
        "#x_test_scaled = scaler.transform(x_test)"
      ],
      "metadata": {
        "id": "bxfF5qSoVcPD"
      },
      "execution_count": null,
      "outputs": []
    },
    {
      "cell_type": "code",
      "source": [
        "#import tensorflow as tf\n",
        "#tf.random.set_seed(42)\n",
        "\n",
        "#model = tf.keras.Sequential([\n",
        "    #tf.keras.layers.Dense(128, activation='relu'),\n",
        "    #tf.keras.layers.Dense(256, activation='relu'),\n",
        "    #tf.keras.layers.Dense(256, activation='relu'),\n",
        "    #tf.keras.layers.Dense(1, activation='sigmoid')\n",
        "#])\n",
        "\n",
        "#model.compile(\n",
        "    #loss=tf.keras.losses.binary_crossentropy,\n",
        "    #optimizer=tf.keras.optimizers.Adam(lr=0.03),\n",
        "    #metrics=[\n",
        "        #tf.keras.metrics.BinaryAccuracy(name='accuracy'),\n",
        "        #tf.keras.metrics.Precision(name='precision'),\n",
        "        #tf.keras.metrics.Recall(name='recall')\n",
        "    #]\n",
        "#)"
      ],
      "metadata": {
        "id": "7wgSJYu3aY5A"
      },
      "execution_count": null,
      "outputs": []
    },
    {
      "cell_type": "code",
      "source": [
        "#classifier = model.fit(x_train_scaled, y_train, epochs=20)"
      ],
      "metadata": {
        "id": "_tsSF4Cnaw0J"
      },
      "execution_count": null,
      "outputs": []
    },
    {
      "cell_type": "code",
      "source": [
        "#probabilities = model.predict(x_test_scaled)\n",
        "#predictions = [\n",
        "    #1 if prob > 0.5 else 0 for prob in np.ravel(probabilities)\n",
        "#]"
      ],
      "metadata": {
        "id": "CY-RWFMVa1M2"
      },
      "execution_count": null,
      "outputs": []
    },
    {
      "cell_type": "code",
      "source": [
        "#from sklearn.metrics import accuracy_score, precision_score, recall_score\n",
        "\n",
        "#print(f'Accuracy: {accuracy_score(y_test, predictions):.2f}')\n",
        "#print(f'Precision: {precision_score(y_test, predictions):.2f}')\n",
        "#print(f'Recall: {recall_score(y_test, predictions):.2f}')"
      ],
      "metadata": {
        "id": "e3Y-9kODbZRc"
      },
      "execution_count": null,
      "outputs": []
    }
  ]
}