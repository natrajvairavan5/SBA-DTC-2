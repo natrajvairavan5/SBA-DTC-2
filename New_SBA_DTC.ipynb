{
  "nbformat": 4,
  "nbformat_minor": 0,
  "metadata": {
    "colab": {
      "name": "New SBA DTC.ipynb",
      "provenance": []
    },
    "kernelspec": {
      "name": "python3",
      "display_name": "Python 3"
    },
    "language_info": {
      "name": "python"
    }
  },
  "cells": [
    {
      "cell_type": "code",
      "execution_count": null,
      "metadata": {
        "id": "jAIJp5GUUimz"
      },
      "outputs": [],
      "source": [
        "import pandas as pd\n",
        "import matplotlib.pyplot as plt\n",
        "import numpy as np\n",
        "import seaborn as sns\n",
        "from sklearn.tree import DecisionTreeClassifier\n",
        "from sklearn.model_selection import train_test_split"
      ]
    },
    {
      "cell_type": "code",
      "source": [
        "data = pd.read_csv(\"/content/drive/MyDrive/2022-05-31T18_21_32+00_00_4zpq.csv\")"
      ],
      "metadata": {
        "id": "SpnsThS_UsxC"
      },
      "execution_count": null,
      "outputs": []
    },
    {
      "cell_type": "code",
      "source": [
        "print(\"The default rate in the sample is: \" + str(len(data[data[\"Default\"] == 1]) / len(data)))"
      ],
      "metadata": {
        "colab": {
          "base_uri": "https://localhost:8080/"
        },
        "id": "iCbmkwC_VlOQ",
        "outputId": "d7ae0805-a5a1-43ea-e4bd-f8363bca3d61"
      },
      "execution_count": null,
      "outputs": [
        {
          "output_type": "stream",
          "name": "stdout",
          "text": [
            "The default rate in the sample is: 0.08100340841917267\n"
          ]
        }
      ]
    },
    {
      "cell_type": "code",
      "source": [
        "data.groupby([\"Default\"]).mean()"
      ],
      "metadata": {
        "colab": {
          "base_uri": "https://localhost:8080/",
          "height": 207
        },
        "id": "eH5aGV0IYN78",
        "outputId": "e6efd711-e9df-4e41-a9a6-38ce15a7fdad"
      },
      "execution_count": null,
      "outputs": [
        {
          "output_type": "execute_result",
          "data": {
            "text/plain": [
              "         ApprovalFiscalYear  GrossApproval  SBAGuaranteedApproval   Portion  \\\n",
              "Default                                                                       \n",
              "0               2013.809836  333421.830200          246880.763371  0.637572   \n",
              "1               2013.896320  198224.668116          148280.600368  0.658203   \n",
              "\n",
              "         InitialInterestRate  TermInMonths  RevolverStatus  JobsSupported  \\\n",
              "Default                                                                     \n",
              "0                   6.349709    111.781393        0.332691      10.966778   \n",
              "1                   7.035053     63.325130        0.342947       8.811699   \n",
              "\n",
              "         Corporation  Franchise  JustBeforeCovid  \n",
              "Default                                           \n",
              "0           0.867754        0.0         0.080161  \n",
              "1           0.855912        0.0         0.100070  "
            ],
            "text/html": [
              "\n",
              "  <div id=\"df-67f494f3-3962-4379-b5ab-bb011946a8d0\">\n",
              "    <div class=\"colab-df-container\">\n",
              "      <div>\n",
              "<style scoped>\n",
              "    .dataframe tbody tr th:only-of-type {\n",
              "        vertical-align: middle;\n",
              "    }\n",
              "\n",
              "    .dataframe tbody tr th {\n",
              "        vertical-align: top;\n",
              "    }\n",
              "\n",
              "    .dataframe thead th {\n",
              "        text-align: right;\n",
              "    }\n",
              "</style>\n",
              "<table border=\"1\" class=\"dataframe\">\n",
              "  <thead>\n",
              "    <tr style=\"text-align: right;\">\n",
              "      <th></th>\n",
              "      <th>ApprovalFiscalYear</th>\n",
              "      <th>GrossApproval</th>\n",
              "      <th>SBAGuaranteedApproval</th>\n",
              "      <th>Portion</th>\n",
              "      <th>InitialInterestRate</th>\n",
              "      <th>TermInMonths</th>\n",
              "      <th>RevolverStatus</th>\n",
              "      <th>JobsSupported</th>\n",
              "      <th>Corporation</th>\n",
              "      <th>Franchise</th>\n",
              "      <th>JustBeforeCovid</th>\n",
              "    </tr>\n",
              "    <tr>\n",
              "      <th>Default</th>\n",
              "      <th></th>\n",
              "      <th></th>\n",
              "      <th></th>\n",
              "      <th></th>\n",
              "      <th></th>\n",
              "      <th></th>\n",
              "      <th></th>\n",
              "      <th></th>\n",
              "      <th></th>\n",
              "      <th></th>\n",
              "      <th></th>\n",
              "    </tr>\n",
              "  </thead>\n",
              "  <tbody>\n",
              "    <tr>\n",
              "      <th>0</th>\n",
              "      <td>2013.809836</td>\n",
              "      <td>333421.830200</td>\n",
              "      <td>246880.763371</td>\n",
              "      <td>0.637572</td>\n",
              "      <td>6.349709</td>\n",
              "      <td>111.781393</td>\n",
              "      <td>0.332691</td>\n",
              "      <td>10.966778</td>\n",
              "      <td>0.867754</td>\n",
              "      <td>0.0</td>\n",
              "      <td>0.080161</td>\n",
              "    </tr>\n",
              "    <tr>\n",
              "      <th>1</th>\n",
              "      <td>2013.896320</td>\n",
              "      <td>198224.668116</td>\n",
              "      <td>148280.600368</td>\n",
              "      <td>0.658203</td>\n",
              "      <td>7.035053</td>\n",
              "      <td>63.325130</td>\n",
              "      <td>0.342947</td>\n",
              "      <td>8.811699</td>\n",
              "      <td>0.855912</td>\n",
              "      <td>0.0</td>\n",
              "      <td>0.100070</td>\n",
              "    </tr>\n",
              "  </tbody>\n",
              "</table>\n",
              "</div>\n",
              "      <button class=\"colab-df-convert\" onclick=\"convertToInteractive('df-67f494f3-3962-4379-b5ab-bb011946a8d0')\"\n",
              "              title=\"Convert this dataframe to an interactive table.\"\n",
              "              style=\"display:none;\">\n",
              "        \n",
              "  <svg xmlns=\"http://www.w3.org/2000/svg\" height=\"24px\"viewBox=\"0 0 24 24\"\n",
              "       width=\"24px\">\n",
              "    <path d=\"M0 0h24v24H0V0z\" fill=\"none\"/>\n",
              "    <path d=\"M18.56 5.44l.94 2.06.94-2.06 2.06-.94-2.06-.94-.94-2.06-.94 2.06-2.06.94zm-11 1L8.5 8.5l.94-2.06 2.06-.94-2.06-.94L8.5 2.5l-.94 2.06-2.06.94zm10 10l.94 2.06.94-2.06 2.06-.94-2.06-.94-.94-2.06-.94 2.06-2.06.94z\"/><path d=\"M17.41 7.96l-1.37-1.37c-.4-.4-.92-.59-1.43-.59-.52 0-1.04.2-1.43.59L10.3 9.45l-7.72 7.72c-.78.78-.78 2.05 0 2.83L4 21.41c.39.39.9.59 1.41.59.51 0 1.02-.2 1.41-.59l7.78-7.78 2.81-2.81c.8-.78.8-2.07 0-2.86zM5.41 20L4 18.59l7.72-7.72 1.47 1.35L5.41 20z\"/>\n",
              "  </svg>\n",
              "      </button>\n",
              "      \n",
              "  <style>\n",
              "    .colab-df-container {\n",
              "      display:flex;\n",
              "      flex-wrap:wrap;\n",
              "      gap: 12px;\n",
              "    }\n",
              "\n",
              "    .colab-df-convert {\n",
              "      background-color: #E8F0FE;\n",
              "      border: none;\n",
              "      border-radius: 50%;\n",
              "      cursor: pointer;\n",
              "      display: none;\n",
              "      fill: #1967D2;\n",
              "      height: 32px;\n",
              "      padding: 0 0 0 0;\n",
              "      width: 32px;\n",
              "    }\n",
              "\n",
              "    .colab-df-convert:hover {\n",
              "      background-color: #E2EBFA;\n",
              "      box-shadow: 0px 1px 2px rgba(60, 64, 67, 0.3), 0px 1px 3px 1px rgba(60, 64, 67, 0.15);\n",
              "      fill: #174EA6;\n",
              "    }\n",
              "\n",
              "    [theme=dark] .colab-df-convert {\n",
              "      background-color: #3B4455;\n",
              "      fill: #D2E3FC;\n",
              "    }\n",
              "\n",
              "    [theme=dark] .colab-df-convert:hover {\n",
              "      background-color: #434B5C;\n",
              "      box-shadow: 0px 1px 3px 1px rgba(0, 0, 0, 0.15);\n",
              "      filter: drop-shadow(0px 1px 2px rgba(0, 0, 0, 0.3));\n",
              "      fill: #FFFFFF;\n",
              "    }\n",
              "  </style>\n",
              "\n",
              "      <script>\n",
              "        const buttonEl =\n",
              "          document.querySelector('#df-67f494f3-3962-4379-b5ab-bb011946a8d0 button.colab-df-convert');\n",
              "        buttonEl.style.display =\n",
              "          google.colab.kernel.accessAllowed ? 'block' : 'none';\n",
              "\n",
              "        async function convertToInteractive(key) {\n",
              "          const element = document.querySelector('#df-67f494f3-3962-4379-b5ab-bb011946a8d0');\n",
              "          const dataTable =\n",
              "            await google.colab.kernel.invokeFunction('convertToInteractive',\n",
              "                                                     [key], {});\n",
              "          if (!dataTable) return;\n",
              "\n",
              "          const docLinkHtml = 'Like what you see? Visit the ' +\n",
              "            '<a target=\"_blank\" href=https://colab.research.google.com/notebooks/data_table.ipynb>data table notebook</a>'\n",
              "            + ' to learn more about interactive tables.';\n",
              "          element.innerHTML = '';\n",
              "          dataTable['output_type'] = 'display_data';\n",
              "          await google.colab.output.renderOutput(dataTable, element);\n",
              "          const docLink = document.createElement('div');\n",
              "          docLink.innerHTML = docLinkHtml;\n",
              "          element.appendChild(docLink);\n",
              "        }\n",
              "      </script>\n",
              "    </div>\n",
              "  </div>\n",
              "  "
            ]
          },
          "metadata": {},
          "execution_count": 5
        }
      ]
    },
    {
      "cell_type": "code",
      "source": [
        "len(data)"
      ],
      "metadata": {
        "colab": {
          "base_uri": "https://localhost:8080/"
        },
        "id": "KxwwNkRWalbH",
        "outputId": "c7441697-cd88-4c18-d272-4c376556b4e2"
      },
      "execution_count": null,
      "outputs": [
        {
          "output_type": "execute_result",
          "data": {
            "text/plain": [
              "318036"
            ]
          },
          "metadata": {},
          "execution_count": 12
        }
      ]
    },
    {
      "cell_type": "code",
      "source": [
        "x = data.drop([\"ApprovalFiscalYear\", \"NaicsDescription\", \"JobsSupported\", \"Default\"], axis=1)\n",
        "y = data[\"Default\"]\n",
        "\n",
        "x_train, x_test, y_train, y_test = train_test_split(x,y,test_size = 0.2, random_state = 10)"
      ],
      "metadata": {
        "id": "JGSzlwC3YTlN"
      },
      "execution_count": null,
      "outputs": []
    },
    {
      "cell_type": "code",
      "source": [
        "dt = DecisionTreeClassifier(criterion=\"entropy\", max_depth = 13)\n",
        "dt.fit(x_train, y_train)"
      ],
      "metadata": {
        "colab": {
          "base_uri": "https://localhost:8080/"
        },
        "id": "UGMpGEsHYhmq",
        "outputId": "cb328023-ad8a-41bf-ad53-eca6cf6266f6"
      },
      "execution_count": null,
      "outputs": [
        {
          "output_type": "execute_result",
          "data": {
            "text/plain": [
              "DecisionTreeClassifier(criterion='entropy', max_depth=13)"
            ]
          },
          "metadata": {},
          "execution_count": 10
        }
      ]
    },
    {
      "cell_type": "code",
      "source": [
        "dt.score(x_train, y_train)"
      ],
      "metadata": {
        "colab": {
          "base_uri": "https://localhost:8080/"
        },
        "id": "Vp7AWlYDYkt6",
        "outputId": "aab97d6e-4bcf-448c-db27-317fb2eb8317"
      },
      "execution_count": null,
      "outputs": [
        {
          "output_type": "execute_result",
          "data": {
            "text/plain": [
              "0.9945328344364613"
            ]
          },
          "metadata": {},
          "execution_count": 8
        }
      ]
    },
    {
      "cell_type": "code",
      "source": [
        "dt.score(x_test, y_test)"
      ],
      "metadata": {
        "colab": {
          "base_uri": "https://localhost:8080/"
        },
        "id": "LIIzlXRWYoNb",
        "outputId": "5ab3f5fe-ef42-4b40-ffa0-47e5e19cbf4a"
      },
      "execution_count": null,
      "outputs": [
        {
          "output_type": "execute_result",
          "data": {
            "text/plain": [
              "0.9522229908187649"
            ]
          },
          "metadata": {},
          "execution_count": 11
        }
      ]
    },
    {
      "cell_type": "code",
      "source": [
        "from sklearn.metrics import confusion_matrix\n",
        "from sklearn.metrics import classification_report\n",
        "\n",
        "matrix = confusion_matrix(dt.predict(x_test), y_test, labels=[1,0])\n",
        "print('Confusion matrix : \\n', matrix)"
      ],
      "metadata": {
        "colab": {
          "base_uri": "https://localhost:8080/"
        },
        "id": "yiM4Z_wFdAC4",
        "outputId": "36bf694d-61cf-401b-be87-e05628e722e2"
      },
      "execution_count": null,
      "outputs": [
        {
          "output_type": "stream",
          "name": "stdout",
          "text": [
            "Confusion matrix : \n",
            " [[ 3534  1385]\n",
            " [ 1654 57035]]\n"
          ]
        }
      ]
    },
    {
      "cell_type": "code",
      "source": [
        "print(\"Portion of businesses in sample that got charged off: \" + str((sum([i for i in data[\"Default\"] if i==1])/len(data))))\n",
        "print(\"Portion of businesses in sample that paid in full: \" + str(1 - 0.08100340841917267))\n",
        "print(\"\")\n",
        "print(\"Portion of businesses the model predicted would default: \" + str((3534+1385)/len(data)))\n",
        "print(\"Portion of businesses the model predicted would not default: \" + str(1-(3534+1385)/len(data)))\n",
        "print(\"\")\n",
        "print(\"Of the businesses that defaulted, portion the model guessed correctly: \" + str(3534/(3534+1654)))\n",
        "print(\"Of the businesses that did not default, portion the model guessed correctly: \" + str(57035/(57035+1385)))"
      ],
      "metadata": {
        "colab": {
          "base_uri": "https://localhost:8080/"
        },
        "id": "MgXbUfYbbxKe",
        "outputId": "726eb4c0-f4df-4a9b-99d3-beb44dd83f9f"
      },
      "execution_count": null,
      "outputs": [
        {
          "output_type": "stream",
          "name": "stdout",
          "text": [
            "Portion of businesses in sample that got charged off: 0.08100340841917267\n",
            "Portion of businesses in sample that paid in full: 0.9189965915808274\n",
            "\n",
            "Portion of businesses the model predicted would default: 0.015466802500345872\n",
            "Portion of businesses the model predicted would not default: 0.9845331974996542\n",
            "\n",
            "Of the businesses that defaulted, portion the model guessed correctly: 0.6811873554356207\n",
            "Of the businesses that did not default, portion the model guessed correctly: 0.9762923656282095\n"
          ]
        }
      ]
    },
    {
      "cell_type": "code",
      "source": [
        ""
      ],
      "metadata": {
        "id": "0axu294Ob5Te"
      },
      "execution_count": null,
      "outputs": []
    }
  ]
}